{
  "nbformat": 4,
  "nbformat_minor": 0,
  "metadata": {
    "colab": {
      "name": "Atividade_PLN_7.ipynb",
      "provenance": [],
      "collapsed_sections": []
    },
    "kernelspec": {
      "name": "python3",
      "display_name": "Python 3"
    },
    "language_info": {
      "name": "python"
    },
    "accelerator": "GPU",
    "gpuClass": "standard"
  },
  "cells": [
    {
      "cell_type": "code",
      "source": [
        "from google.colab import drive\n",
        "drive.mount('/content/drive')"
      ],
      "metadata": {
        "colab": {
          "base_uri": "https://localhost:8080/"
        },
        "id": "oeMzrJgWFEYo",
        "outputId": "17be0cdb-c15e-47e5-cc48-0c0f2b7799bc"
      },
      "execution_count": 1,
      "outputs": [
        {
          "output_type": "stream",
          "name": "stdout",
          "text": [
            "Drive already mounted at /content/drive; to attempt to forcibly remount, call drive.mount(\"/content/drive\", force_remount=True).\n"
          ]
        }
      ]
    },
    {
      "cell_type": "code",
      "source": [
        "!cp -r '/content/drive/MyDrive/full_3' 'document'"
      ],
      "metadata": {
        "id": "PnVrEZMTF1n7"
      },
      "execution_count": 2,
      "outputs": []
    },
    {
      "cell_type": "code",
      "source": [
        "!pip install keras\n",
        "!pip install tensorflow"
      ],
      "metadata": {
        "colab": {
          "base_uri": "https://localhost:8080/"
        },
        "id": "EFnpye7hhSGe",
        "outputId": "e91ccdf8-0ee3-4888-d1ad-131d69838536"
      },
      "execution_count": 3,
      "outputs": [
        {
          "output_type": "stream",
          "name": "stdout",
          "text": [
            "Looking in indexes: https://pypi.org/simple, https://us-python.pkg.dev/colab-wheels/public/simple/\n",
            "Requirement already satisfied: keras in /usr/local/lib/python3.7/dist-packages (2.8.0)\n",
            "Looking in indexes: https://pypi.org/simple, https://us-python.pkg.dev/colab-wheels/public/simple/\n",
            "Requirement already satisfied: tensorflow in /usr/local/lib/python3.7/dist-packages (2.8.2+zzzcolab20220719082949)\n",
            "Requirement already satisfied: numpy>=1.20 in /usr/local/lib/python3.7/dist-packages (from tensorflow) (1.21.6)\n",
            "Requirement already satisfied: typing-extensions>=3.6.6 in /usr/local/lib/python3.7/dist-packages (from tensorflow) (4.1.1)\n",
            "Requirement already satisfied: opt-einsum>=2.3.2 in /usr/local/lib/python3.7/dist-packages (from tensorflow) (3.3.0)\n",
            "Requirement already satisfied: tensorflow-estimator<2.9,>=2.8 in /usr/local/lib/python3.7/dist-packages (from tensorflow) (2.8.0)\n",
            "Requirement already satisfied: flatbuffers>=1.12 in /usr/local/lib/python3.7/dist-packages (from tensorflow) (2.0)\n",
            "Requirement already satisfied: tensorboard<2.9,>=2.8 in /usr/local/lib/python3.7/dist-packages (from tensorflow) (2.8.0)\n",
            "Requirement already satisfied: six>=1.12.0 in /usr/local/lib/python3.7/dist-packages (from tensorflow) (1.15.0)\n",
            "Requirement already satisfied: setuptools in /usr/local/lib/python3.7/dist-packages (from tensorflow) (57.4.0)\n",
            "Requirement already satisfied: keras<2.9,>=2.8.0rc0 in /usr/local/lib/python3.7/dist-packages (from tensorflow) (2.8.0)\n",
            "Requirement already satisfied: keras-preprocessing>=1.1.1 in /usr/local/lib/python3.7/dist-packages (from tensorflow) (1.1.2)\n",
            "Requirement already satisfied: absl-py>=0.4.0 in /usr/local/lib/python3.7/dist-packages (from tensorflow) (1.2.0)\n",
            "Requirement already satisfied: wrapt>=1.11.0 in /usr/local/lib/python3.7/dist-packages (from tensorflow) (1.14.1)\n",
            "Requirement already satisfied: h5py>=2.9.0 in /usr/local/lib/python3.7/dist-packages (from tensorflow) (3.1.0)\n",
            "Requirement already satisfied: google-pasta>=0.1.1 in /usr/local/lib/python3.7/dist-packages (from tensorflow) (0.2.0)\n",
            "Requirement already satisfied: libclang>=9.0.1 in /usr/local/lib/python3.7/dist-packages (from tensorflow) (14.0.6)\n",
            "Requirement already satisfied: astunparse>=1.6.0 in /usr/local/lib/python3.7/dist-packages (from tensorflow) (1.6.3)\n",
            "Requirement already satisfied: grpcio<2.0,>=1.24.3 in /usr/local/lib/python3.7/dist-packages (from tensorflow) (1.47.0)\n",
            "Requirement already satisfied: protobuf<3.20,>=3.9.2 in /usr/local/lib/python3.7/dist-packages (from tensorflow) (3.17.3)\n",
            "Requirement already satisfied: tensorflow-io-gcs-filesystem>=0.23.1 in /usr/local/lib/python3.7/dist-packages (from tensorflow) (0.26.0)\n",
            "Requirement already satisfied: termcolor>=1.1.0 in /usr/local/lib/python3.7/dist-packages (from tensorflow) (1.1.0)\n",
            "Requirement already satisfied: gast>=0.2.1 in /usr/local/lib/python3.7/dist-packages (from tensorflow) (0.5.3)\n",
            "Requirement already satisfied: wheel<1.0,>=0.23.0 in /usr/local/lib/python3.7/dist-packages (from astunparse>=1.6.0->tensorflow) (0.37.1)\n",
            "Requirement already satisfied: cached-property in /usr/local/lib/python3.7/dist-packages (from h5py>=2.9.0->tensorflow) (1.5.2)\n",
            "Requirement already satisfied: requests<3,>=2.21.0 in /usr/local/lib/python3.7/dist-packages (from tensorboard<2.9,>=2.8->tensorflow) (2.23.0)\n",
            "Requirement already satisfied: google-auth-oauthlib<0.5,>=0.4.1 in /usr/local/lib/python3.7/dist-packages (from tensorboard<2.9,>=2.8->tensorflow) (0.4.6)\n",
            "Requirement already satisfied: markdown>=2.6.8 in /usr/local/lib/python3.7/dist-packages (from tensorboard<2.9,>=2.8->tensorflow) (3.4.1)\n",
            "Requirement already satisfied: google-auth<3,>=1.6.3 in /usr/local/lib/python3.7/dist-packages (from tensorboard<2.9,>=2.8->tensorflow) (1.35.0)\n",
            "Requirement already satisfied: tensorboard-plugin-wit>=1.6.0 in /usr/local/lib/python3.7/dist-packages (from tensorboard<2.9,>=2.8->tensorflow) (1.8.1)\n",
            "Requirement already satisfied: tensorboard-data-server<0.7.0,>=0.6.0 in /usr/local/lib/python3.7/dist-packages (from tensorboard<2.9,>=2.8->tensorflow) (0.6.1)\n",
            "Requirement already satisfied: werkzeug>=0.11.15 in /usr/local/lib/python3.7/dist-packages (from tensorboard<2.9,>=2.8->tensorflow) (1.0.1)\n",
            "Requirement already satisfied: pyasn1-modules>=0.2.1 in /usr/local/lib/python3.7/dist-packages (from google-auth<3,>=1.6.3->tensorboard<2.9,>=2.8->tensorflow) (0.2.8)\n",
            "Requirement already satisfied: rsa<5,>=3.1.4 in /usr/local/lib/python3.7/dist-packages (from google-auth<3,>=1.6.3->tensorboard<2.9,>=2.8->tensorflow) (4.9)\n",
            "Requirement already satisfied: cachetools<5.0,>=2.0.0 in /usr/local/lib/python3.7/dist-packages (from google-auth<3,>=1.6.3->tensorboard<2.9,>=2.8->tensorflow) (4.2.4)\n",
            "Requirement already satisfied: requests-oauthlib>=0.7.0 in /usr/local/lib/python3.7/dist-packages (from google-auth-oauthlib<0.5,>=0.4.1->tensorboard<2.9,>=2.8->tensorflow) (1.3.1)\n",
            "Requirement already satisfied: importlib-metadata>=4.4 in /usr/local/lib/python3.7/dist-packages (from markdown>=2.6.8->tensorboard<2.9,>=2.8->tensorflow) (4.12.0)\n",
            "Requirement already satisfied: zipp>=0.5 in /usr/local/lib/python3.7/dist-packages (from importlib-metadata>=4.4->markdown>=2.6.8->tensorboard<2.9,>=2.8->tensorflow) (3.8.1)\n",
            "Requirement already satisfied: pyasn1<0.5.0,>=0.4.6 in /usr/local/lib/python3.7/dist-packages (from pyasn1-modules>=0.2.1->google-auth<3,>=1.6.3->tensorboard<2.9,>=2.8->tensorflow) (0.4.8)\n",
            "Requirement already satisfied: idna<3,>=2.5 in /usr/local/lib/python3.7/dist-packages (from requests<3,>=2.21.0->tensorboard<2.9,>=2.8->tensorflow) (2.10)\n",
            "Requirement already satisfied: urllib3!=1.25.0,!=1.25.1,<1.26,>=1.21.1 in /usr/local/lib/python3.7/dist-packages (from requests<3,>=2.21.0->tensorboard<2.9,>=2.8->tensorflow) (1.24.3)\n",
            "Requirement already satisfied: chardet<4,>=3.0.2 in /usr/local/lib/python3.7/dist-packages (from requests<3,>=2.21.0->tensorboard<2.9,>=2.8->tensorflow) (3.0.4)\n",
            "Requirement already satisfied: certifi>=2017.4.17 in /usr/local/lib/python3.7/dist-packages (from requests<3,>=2.21.0->tensorboard<2.9,>=2.8->tensorflow) (2022.6.15)\n",
            "Requirement already satisfied: oauthlib>=3.0.0 in /usr/local/lib/python3.7/dist-packages (from requests-oauthlib>=0.7.0->google-auth-oauthlib<0.5,>=0.4.1->tensorboard<2.9,>=2.8->tensorflow) (3.2.0)\n"
          ]
        }
      ]
    },
    {
      "cell_type": "code",
      "execution_count": 4,
      "metadata": {
        "id": "cj1Qy8ZugnC7"
      },
      "outputs": [],
      "source": [
        "import pandas as pd\n",
        "import tensorflow as tf\n",
        "from tensorflow.keras.models import Sequential\n",
        "from tensorflow.keras.layers import Dense, Activation, Conv2D, BatchNormalization, MaxPool2D, Dropout, Flatten, MaxPooling2D\n",
        "from sklearn.feature_extraction.text import TfidfVectorizer\n",
        "from tensorflow.keras.optimizers import SGD\n",
        "from keras.utils.np_utils import to_categorical\n",
        "import matplotlib.pyplot as plt\n",
        "\n",
        "from sklearn.model_selection import train_test_split\n",
        "from tensorflow.keras.preprocessing.image import ImageDataGenerator\n",
        "from tensorflow.keras import layers\n",
        "import numpy as np \n",
        "import os\n",
        "\n",
        "from tensorflow.keras.applications import ResNet50\n",
        "#from tensorflow.keras.applications.ResNet50 import ResNet50"
      ]
    },
    {
      "cell_type": "code",
      "source": [
        "path_documents = 'document'\n",
        "lista_subfolders = os.listdir(path_documents)\n",
        "\n",
        "dataset_dict = {}\n",
        "\n",
        "dataset_dict['filename'] = []\n",
        "dataset_dict['label'] = []\n",
        "\n",
        "for folder in lista_subfolders:\n",
        "  lista_imagens = os.listdir(path_documents+'/'+folder)\n",
        "\n",
        "  for img_file in lista_imagens:\n",
        "    dataset_dict['filename'].append(folder+'/'+img_file)\n",
        "    dataset_dict['label'].append(folder)\n"
      ],
      "metadata": {
        "id": "urCr6MMVJR-R"
      },
      "execution_count": 5,
      "outputs": []
    },
    {
      "cell_type": "code",
      "source": [
        "df = pd.DataFrame(dataset_dict,columns=['filename','label'])"
      ],
      "metadata": {
        "id": "XY_DC0rPNNoh"
      },
      "execution_count": 6,
      "outputs": []
    },
    {
      "cell_type": "code",
      "source": [
        "X=df['filename'].values\n",
        "y=df['label'].values"
      ],
      "metadata": {
        "id": "nOLQgxL6ObAW"
      },
      "execution_count": 7,
      "outputs": []
    },
    {
      "cell_type": "code",
      "source": [
        "X_train, X_test, y_train, y_test = train_test_split(X, y, test_size=0.3, random_state=42)\n",
        "X_valid, X_test, y_valid, y_test = train_test_split(X_test, y_test, test_size=0.6, random_state=42)"
      ],
      "metadata": {
        "id": "KahqcNveJqgi"
      },
      "execution_count": 8,
      "outputs": []
    },
    {
      "cell_type": "markdown",
      "source": [
        "crição de logits"
      ],
      "metadata": {
        "id": "sYWBR9EsOslM"
      }
    },
    {
      "cell_type": "code",
      "source": [
        "from keras.utils.np_utils import to_categorical\n",
        "\n",
        "train_labels = pd.Categorical(y_train)\n",
        "valid_labels = pd.Categorical(y_valid)\n",
        "test_labels = pd.Categorical(y_test)\n",
        "\n",
        "\n",
        "y_train_int = train_labels.codes\n",
        "y_valid_int = valid_labels.codes\n",
        "y_test_int = test_labels.codes\n",
        "\n",
        "\n",
        "y_train_logits = to_categorical(y_train_int)\n",
        "y_valid_logits = to_categorical(y_valid_int)\n",
        "y_test_logits = to_categorical(y_test_int)"
      ],
      "metadata": {
        "id": "aMYXgeX7PK7a"
      },
      "execution_count": 9,
      "outputs": []
    },
    {
      "cell_type": "code",
      "source": [
        "lista_train = []\n",
        "for i in range(0,len(X_train)):\n",
        "  lista_train.append([X_train[i],y_train[i]])\n",
        "  \n",
        "lista_valid = []\n",
        "for i in range(0,len(X_valid)):\n",
        "  lista_valid.append([X_valid[i],y_valid[i]])\n",
        "  \n",
        "lista_test = []\n",
        "for i in range(0,len(X_test)):\n",
        "  lista_test.append([X_test[i],y_test[i]])\n",
        "  \n"
      ],
      "metadata": {
        "id": "vGyWFlFhQ_3b"
      },
      "execution_count": 10,
      "outputs": []
    },
    {
      "cell_type": "code",
      "source": [
        "df_train = pd.DataFrame(lista_train, columns=['filename','label'])\n",
        "df_valid = pd.DataFrame(lista_valid, columns=['filename','label'])\n",
        "df_test = pd.DataFrame(lista_test, columns=['filename','label'])"
      ],
      "metadata": {
        "id": "bHWoGd2KSCYO"
      },
      "execution_count": 11,
      "outputs": []
    },
    {
      "cell_type": "code",
      "source": [
        "# train_datagen = ImageDataGenerator(rescale =  1.255,\n",
        "#                                    featurewise_center=True,\n",
        "#                                    featurewise_std_normalization=True,\n",
        "#                                    rotation_range=20,\n",
        "#                                    width_shift_range=0.2,\n",
        "#                                    height_shift_range=0.2,\n",
        "#                                    horizontal_flip=True)\n",
        "\n",
        "datagen = ImageDataGenerator(rescale=1./255)\n",
        "\n",
        "train_generator = datagen.flow_from_dataframe(df_train,\n",
        "                                              directory=path_documents,\n",
        "                                              x_col='filename', y_col='label',\n",
        "                                              class_mode = 'categorical',\n",
        "                                              shufle=True)\n",
        "\n",
        "valid_generator = datagen.flow_from_dataframe(df_valid,\n",
        "                                              directory=path_documents,\n",
        "                                              x_col='filename', y_col='label',\n",
        "                                              class_mode = 'categorical',\n",
        "                                              shufle=True)\n",
        "\n",
        "test_generator = datagen.flow_from_dataframe(df_test,\n",
        "                                             directory=path_documents,\n",
        "                                             x_col='filename', y_col='label',\n",
        "                                             class_mode = 'categorical',\n",
        "                                             shufle=True)"
      ],
      "metadata": {
        "colab": {
          "base_uri": "https://localhost:8080/"
        },
        "id": "jlekeIdbNvIz",
        "outputId": "cc0559be-66c9-4102-b597-57677738d7cf"
      },
      "execution_count": 12,
      "outputs": [
        {
          "output_type": "stream",
          "name": "stdout",
          "text": [
            "Found 2072 validated image filenames belonging to 3 classes.\n",
            "Found 356 validated image filenames belonging to 3 classes.\n",
            "Found 533 validated image filenames belonging to 3 classes.\n"
          ]
        },
        {
          "output_type": "stream",
          "name": "stderr",
          "text": [
            "/usr/local/lib/python3.7/dist-packages/keras_preprocessing/image/dataframe_iterator.py:282: UserWarning: Found 3 invalid image filename(s) in x_col=\"filename\". These filename(s) will be ignored.\n",
            "  .format(n_invalid, x_col)\n",
            "/usr/local/lib/python3.7/dist-packages/keras_preprocessing/image/dataframe_iterator.py:282: UserWarning: Found 1 invalid image filename(s) in x_col=\"filename\". These filename(s) will be ignored.\n",
            "  .format(n_invalid, x_col)\n"
          ]
        }
      ]
    },
    {
      "cell_type": "code",
      "source": [
        "num_classes=3"
      ],
      "metadata": {
        "id": "FEWjVjmiWIHs"
      },
      "execution_count": 13,
      "outputs": []
    },
    {
      "cell_type": "code",
      "source": [
        "model = Sequential()\n",
        "\n",
        "model.add(layers.experimental.preprocessing.Resizing(224,224,interpolation=\"bilinear\",input_shape=(224,224,3)))\n",
        "model.add(Conv2D(96,(11,11), strides=(4,4)))\n",
        "model.add(Activation(\"relu\"))\n",
        "model.add(MaxPooling2D((3, 3),strides=(2,2)))\n",
        "model.add(BatchNormalization())\n",
        "\n",
        "model.add(Conv2D(256,(5,5), strides=(1,1),padding=\"same\"))\n",
        "model.add(Activation(\"relu\"))\n",
        "model.add(MaxPooling2D((3, 3),strides=(2,2)))\n",
        "model.add(BatchNormalization())\n",
        "\n",
        "model.add(Conv2D(384,(3,3), strides=(1,1),padding=\"same\"))\n",
        "model.add(Activation(\"relu\"))\n",
        "model.add(BatchNormalization())\n",
        "\n",
        "model.add(Conv2D(384,(3,3), strides=(1,1),padding=\"same\"))\n",
        "model.add(Activation(\"relu\"))\n",
        "model.add(BatchNormalization())\n",
        "\n",
        "model.add(Conv2D(256,(3,3), strides=(1,1),padding=\"same\"))\n",
        "model.add(Activation(\"relu\"))\n",
        "model.add(MaxPooling2D((3, 3),strides=(2,2)))\n",
        "model.add(BatchNormalization())\n",
        "\n",
        "model.add(Flatten())\n",
        "model.add(Dense(4096))\n",
        "model.add(Activation(\"relu\"))\n",
        "model.add(Dropout(0.5))\n",
        "\n",
        "model.add(Dense(4096))\n",
        "model.add(Activation(\"relu\"))\n",
        "model.add(Dropout(0.5))\n",
        "\n",
        "model.add(Dense(num_classes))\n",
        "model.add(Activation(\"softmax\"))"
      ],
      "metadata": {
        "id": "J4NCFIPYjIBu"
      },
      "execution_count": 14,
      "outputs": []
    },
    {
      "cell_type": "code",
      "source": [
        "model.summary()"
      ],
      "metadata": {
        "colab": {
          "base_uri": "https://localhost:8080/"
        },
        "id": "KgILPF6eqtAp",
        "outputId": "01dc88f8-e8e6-4697-c454-a60cc14744cb"
      },
      "execution_count": 15,
      "outputs": [
        {
          "output_type": "stream",
          "name": "stdout",
          "text": [
            "Model: \"sequential\"\n",
            "_________________________________________________________________\n",
            " Layer (type)                Output Shape              Param #   \n",
            "=================================================================\n",
            " resizing (Resizing)         (None, 224, 224, 3)       0         \n",
            "                                                                 \n",
            " conv2d (Conv2D)             (None, 54, 54, 96)        34944     \n",
            "                                                                 \n",
            " activation (Activation)     (None, 54, 54, 96)        0         \n",
            "                                                                 \n",
            " max_pooling2d (MaxPooling2D  (None, 26, 26, 96)       0         \n",
            " )                                                               \n",
            "                                                                 \n",
            " batch_normalization (BatchN  (None, 26, 26, 96)       384       \n",
            " ormalization)                                                   \n",
            "                                                                 \n",
            " conv2d_1 (Conv2D)           (None, 26, 26, 256)       614656    \n",
            "                                                                 \n",
            " activation_1 (Activation)   (None, 26, 26, 256)       0         \n",
            "                                                                 \n",
            " max_pooling2d_1 (MaxPooling  (None, 12, 12, 256)      0         \n",
            " 2D)                                                             \n",
            "                                                                 \n",
            " batch_normalization_1 (Batc  (None, 12, 12, 256)      1024      \n",
            " hNormalization)                                                 \n",
            "                                                                 \n",
            " conv2d_2 (Conv2D)           (None, 12, 12, 384)       885120    \n",
            "                                                                 \n",
            " activation_2 (Activation)   (None, 12, 12, 384)       0         \n",
            "                                                                 \n",
            " batch_normalization_2 (Batc  (None, 12, 12, 384)      1536      \n",
            " hNormalization)                                                 \n",
            "                                                                 \n",
            " conv2d_3 (Conv2D)           (None, 12, 12, 384)       1327488   \n",
            "                                                                 \n",
            " activation_3 (Activation)   (None, 12, 12, 384)       0         \n",
            "                                                                 \n",
            " batch_normalization_3 (Batc  (None, 12, 12, 384)      1536      \n",
            " hNormalization)                                                 \n",
            "                                                                 \n",
            " conv2d_4 (Conv2D)           (None, 12, 12, 256)       884992    \n",
            "                                                                 \n",
            " activation_4 (Activation)   (None, 12, 12, 256)       0         \n",
            "                                                                 \n",
            " max_pooling2d_2 (MaxPooling  (None, 5, 5, 256)        0         \n",
            " 2D)                                                             \n",
            "                                                                 \n",
            " batch_normalization_4 (Batc  (None, 5, 5, 256)        1024      \n",
            " hNormalization)                                                 \n",
            "                                                                 \n",
            " flatten (Flatten)           (None, 6400)              0         \n",
            "                                                                 \n",
            " dense (Dense)               (None, 4096)              26218496  \n",
            "                                                                 \n",
            " activation_5 (Activation)   (None, 4096)              0         \n",
            "                                                                 \n",
            " dropout (Dropout)           (None, 4096)              0         \n",
            "                                                                 \n",
            " dense_1 (Dense)             (None, 4096)              16781312  \n",
            "                                                                 \n",
            " activation_6 (Activation)   (None, 4096)              0         \n",
            "                                                                 \n",
            " dropout_1 (Dropout)         (None, 4096)              0         \n",
            "                                                                 \n",
            " dense_2 (Dense)             (None, 3)                 12291     \n",
            "                                                                 \n",
            " activation_7 (Activation)   (None, 3)                 0         \n",
            "                                                                 \n",
            "=================================================================\n",
            "Total params: 46,764,803\n",
            "Trainable params: 46,762,051\n",
            "Non-trainable params: 2,752\n",
            "_________________________________________________________________\n"
          ]
        }
      ]
    },
    {
      "cell_type": "code",
      "source": [
        "sgd = SGD(lr=0.0001)\n",
        "\n",
        "model.compile(optimizer=sgd,loss='categorical_crossentropy',metrics=['accuracy'])\n",
        "\n"
      ],
      "metadata": {
        "colab": {
          "base_uri": "https://localhost:8080/"
        },
        "id": "8IBxg-y6Hlf-",
        "outputId": "9563510a-19d9-4f08-9505-282fb8675f8b"
      },
      "execution_count": 16,
      "outputs": [
        {
          "output_type": "stream",
          "name": "stderr",
          "text": [
            "/usr/local/lib/python3.7/dist-packages/keras/optimizer_v2/gradient_descent.py:102: UserWarning: The `lr` argument is deprecated, use `learning_rate` instead.\n",
            "  super(SGD, self).__init__(name, **kwargs)\n"
          ]
        }
      ]
    },
    {
      "cell_type": "code",
      "source": [
        "history = model.fit(train_generator,\n",
        "          epochs=20,\n",
        "          batch_size=16,\n",
        "          validation_data=valid_generator)"
      ],
      "metadata": {
        "colab": {
          "base_uri": "https://localhost:8080/"
        },
        "id": "GGiFAMNMb9He",
        "outputId": "6ed27d0d-3894-4f09-f72b-fcf732d4032f"
      },
      "execution_count": 17,
      "outputs": [
        {
          "output_type": "stream",
          "name": "stdout",
          "text": [
            "Epoch 1/20\n",
            "65/65 [==============================] - 36s 339ms/step - loss: 1.0946 - accuracy: 0.5299 - val_loss: 1.1443 - val_accuracy: 0.3399\n",
            "Epoch 2/20\n",
            "65/65 [==============================] - 16s 253ms/step - loss: 0.7090 - accuracy: 0.7153 - val_loss: 1.3171 - val_accuracy: 0.3399\n",
            "Epoch 3/20\n",
            "65/65 [==============================] - 13s 198ms/step - loss: 0.6277 - accuracy: 0.7519 - val_loss: 1.5734 - val_accuracy: 0.3399\n",
            "Epoch 4/20\n",
            "65/65 [==============================] - 11s 170ms/step - loss: 0.5863 - accuracy: 0.7756 - val_loss: 1.6754 - val_accuracy: 0.3399\n",
            "Epoch 5/20\n",
            "65/65 [==============================] - 10s 155ms/step - loss: 0.5316 - accuracy: 0.8012 - val_loss: 1.4478 - val_accuracy: 0.3427\n",
            "Epoch 6/20\n",
            "65/65 [==============================] - 10s 156ms/step - loss: 0.5154 - accuracy: 0.7997 - val_loss: 1.3655 - val_accuracy: 0.3680\n",
            "Epoch 7/20\n",
            "65/65 [==============================] - 10s 157ms/step - loss: 0.5260 - accuracy: 0.8055 - val_loss: 0.9100 - val_accuracy: 0.5506\n",
            "Epoch 8/20\n",
            "65/65 [==============================] - 11s 166ms/step - loss: 0.4981 - accuracy: 0.8156 - val_loss: 0.6890 - val_accuracy: 0.7135\n",
            "Epoch 9/20\n",
            "65/65 [==============================] - 11s 165ms/step - loss: 0.5090 - accuracy: 0.8132 - val_loss: 0.5383 - val_accuracy: 0.8174\n",
            "Epoch 10/20\n",
            "65/65 [==============================] - 10s 156ms/step - loss: 0.4556 - accuracy: 0.8335 - val_loss: 0.4657 - val_accuracy: 0.8202\n",
            "Epoch 11/20\n",
            "65/65 [==============================] - 10s 157ms/step - loss: 0.4503 - accuracy: 0.8287 - val_loss: 0.4781 - val_accuracy: 0.8258\n",
            "Epoch 12/20\n",
            "65/65 [==============================] - 11s 163ms/step - loss: 0.4323 - accuracy: 0.8499 - val_loss: 0.4049 - val_accuracy: 0.8511\n",
            "Epoch 13/20\n",
            "65/65 [==============================] - 11s 169ms/step - loss: 0.4242 - accuracy: 0.8485 - val_loss: 0.4274 - val_accuracy: 0.8315\n",
            "Epoch 14/20\n",
            "65/65 [==============================] - 10s 155ms/step - loss: 0.4016 - accuracy: 0.8436 - val_loss: 0.4682 - val_accuracy: 0.8146\n",
            "Epoch 15/20\n",
            "65/65 [==============================] - 10s 156ms/step - loss: 0.3985 - accuracy: 0.8460 - val_loss: 0.4390 - val_accuracy: 0.8258\n",
            "Epoch 16/20\n",
            "65/65 [==============================] - 10s 156ms/step - loss: 0.3914 - accuracy: 0.8586 - val_loss: 0.4127 - val_accuracy: 0.8483\n",
            "Epoch 17/20\n",
            "65/65 [==============================] - 11s 165ms/step - loss: 0.3872 - accuracy: 0.8557 - val_loss: 0.3914 - val_accuracy: 0.8455\n",
            "Epoch 18/20\n",
            "65/65 [==============================] - 11s 172ms/step - loss: 0.3830 - accuracy: 0.8552 - val_loss: 0.4467 - val_accuracy: 0.8399\n",
            "Epoch 19/20\n",
            "65/65 [==============================] - 11s 168ms/step - loss: 0.3665 - accuracy: 0.8653 - val_loss: 0.4213 - val_accuracy: 0.8371\n",
            "Epoch 20/20\n",
            "65/65 [==============================] - 10s 159ms/step - loss: 0.3538 - accuracy: 0.8678 - val_loss: 0.4283 - val_accuracy: 0.8399\n"
          ]
        }
      ]
    },
    {
      "cell_type": "code",
      "source": [
        "history_fine = model.history\n",
        "loss = history_fine.history['loss']\n",
        "val_loss = history_fine.history['val_loss']\n",
        "\n",
        "plt.plot(history_fine.history['loss'])\n",
        "plt.plot(history_fine.history['val_loss'])\n",
        "plt.title('model loss')\n",
        "plt.ylabel('loss')\n",
        "plt.xlabel('epoch')\n",
        "plt.legend(['training set','validation set'], loc='upper left')\n",
        "plt.show()"
      ],
      "metadata": {
        "colab": {
          "base_uri": "https://localhost:8080/",
          "height": 295
        },
        "id": "tjI0SUBHYsNk",
        "outputId": "f1c6350b-5fc2-4f60-ef7e-7af561856b65"
      },
      "execution_count": 18,
      "outputs": [
        {
          "output_type": "display_data",
          "data": {
            "text/plain": [
              "<Figure size 432x288 with 1 Axes>"
            ],
            "image/png": "[encoded data removed]"
          },
          "metadata": {
            "needs_background": "light"
          }
        }
      ]
    },
    {
      "cell_type": "markdown",
      "source": [
        ""
      ],
      "metadata": {
        "id": "EyzKAVDvZavU"
      }
    },
    {
      "cell_type": "code",
      "source": [
        "y_prob = model.predict(test_generator)\n",
        "y_pred = np.argmax(y_prob,axis=1)"
      ],
      "metadata": {
        "id": "GOCq_a72Za2h"
      },
      "execution_count": 19,
      "outputs": []
    },
    {
      "cell_type": "code",
      "source": [
        "y_prob"
      ],
      "metadata": {
        "colab": {
          "base_uri": "https://localhost:8080/"
        },
        "id": "Umri8EFaZglg",
        "outputId": "492b6adb-5a9a-40e8-a1f1-0b14bcbe354a"
      },
      "execution_count": 20,
      "outputs": [
        {
          "output_type": "execute_result",
          "data": {
            "text/plain": [
              "array([[0.00413785, 0.99341327, 0.00244888],\n",
              "       [0.0029019 , 0.9943389 , 0.00275923],\n",
              "       [0.8258261 , 0.10088709, 0.07328676],\n",
              "       ...,\n",
              "       [0.05352325, 0.00703565, 0.93944114],\n",
              "       [0.12705828, 0.0913548 , 0.7815869 ],\n",
              "       [0.8991341 , 0.0079252 , 0.09294076]], dtype=float32)"
            ]
          },
          "metadata": {},
          "execution_count": 20
        }
      ]
    },
    {
      "cell_type": "code",
      "source": [
        "y_test = test_generator.classes"
      ],
      "metadata": {
        "id": "SLdLzLwTZxjy"
      },
      "execution_count": 21,
      "outputs": []
    },
    {
      "cell_type": "code",
      "source": [
        "from sklearn.metrics import classification_report\n",
        "print(classification_report(y_test,y_pred))"
      ],
      "metadata": {
        "colab": {
          "base_uri": "https://localhost:8080/"
        },
        "id": "cMTEd_LtaFIX",
        "outputId": "22b6c3ac-bf42-413a-f891-efd2669e3a2e"
      },
      "execution_count": 22,
      "outputs": [
        {
          "output_type": "stream",
          "name": "stdout",
          "text": [
            "              precision    recall  f1-score   support\n",
            "\n",
            "           0       0.34      0.38      0.36       184\n",
            "           1       0.35      0.39      0.37       170\n",
            "           2       0.32      0.24      0.27       179\n",
            "\n",
            "    accuracy                           0.34       533\n",
            "   macro avg       0.33      0.34      0.33       533\n",
            "weighted avg       0.33      0.34      0.33       533\n",
            "\n"
          ]
        }
      ]
    },
    {
      "cell_type": "markdown",
      "source": [
        "# ResNet50 sem pré-treinamento"
      ],
      "metadata": {
        "id": "i2eg5Dmmvv2v"
      }
    },
    {
      "cell_type": "code",
      "source": [
        "model_resnet = Sequential()\n",
        "\n",
        "model_resnet_not_pt = ResNet50(input_shape=(224,224,3),\n",
        "                             include_top=False,\n",
        "                             pooling='avg',\n",
        "                             weights=None,\n",
        "                             classes=num_classes)\n",
        "\n",
        "model_resnet.add(model_resnet_not_pt)\n",
        "model_resnet.add(Flatten())\n",
        "model_resnet.add(Dense(4096))\n",
        "model_resnet.add(Activation(\"relu\"))\n",
        "model_resnet.add(Dropout(0.5))\n",
        "\n",
        "model_resnet.add(Dense(num_classes))\n",
        "model_resnet.add(Activation(\"softmax\"))\n",
        "\n"
      ],
      "metadata": {
        "id": "rQye0CRHvd0X"
      },
      "execution_count": 23,
      "outputs": []
    },
    {
      "cell_type": "code",
      "source": [
        "model_resnet.summary()"
      ],
      "metadata": {
        "colab": {
          "base_uri": "https://localhost:8080/"
        },
        "outputId": "02acec08-0ecf-4a33-9d70-225fa665d3f5",
        "id": "cp8-jkEhvd0X"
      },
      "execution_count": 24,
      "outputs": [
        {
          "output_type": "stream",
          "name": "stdout",
          "text": [
            "Model: \"sequential_1\"\n",
            "_________________________________________________________________\n",
            " Layer (type)                Output Shape              Param #   \n",
            "=================================================================\n",
            " resnet50 (Functional)       (None, 2048)              23587712  \n",
            "                                                                 \n",
            " flatten_1 (Flatten)         (None, 2048)              0         \n",
            "                                                                 \n",
            " dense_3 (Dense)             (None, 4096)              8392704   \n",
            "                                                                 \n",
            " activation_8 (Activation)   (None, 4096)              0         \n",
            "                                                                 \n",
            " dropout_2 (Dropout)         (None, 4096)              0         \n",
            "                                                                 \n",
            " dense_4 (Dense)             (None, 3)                 12291     \n",
            "                                                                 \n",
            " activation_9 (Activation)   (None, 3)                 0         \n",
            "                                                                 \n",
            "=================================================================\n",
            "Total params: 31,992,707\n",
            "Trainable params: 31,939,587\n",
            "Non-trainable params: 53,120\n",
            "_________________________________________________________________\n"
          ]
        }
      ]
    },
    {
      "cell_type": "code",
      "source": [
        "sgd = SGD(lr=0.0001)\n",
        "\n",
        "model_resnet.compile(optimizer=sgd,loss='categorical_crossentropy',metrics=['accuracy'])\n",
        "\n"
      ],
      "metadata": {
        "colab": {
          "base_uri": "https://localhost:8080/"
        },
        "outputId": "ba37180e-8144-40fb-813a-0e2e3aea1ebd",
        "id": "As5dYIIavd0Y"
      },
      "execution_count": 25,
      "outputs": [
        {
          "output_type": "stream",
          "name": "stderr",
          "text": [
            "/usr/local/lib/python3.7/dist-packages/keras/optimizer_v2/gradient_descent.py:102: UserWarning: The `lr` argument is deprecated, use `learning_rate` instead.\n",
            "  super(SGD, self).__init__(name, **kwargs)\n"
          ]
        }
      ]
    },
    {
      "cell_type": "code",
      "source": [
        "history = model_resnet.fit(train_generator,\n",
        "          epochs=20,\n",
        "          batch_size=16,\n",
        "          validation_data=valid_generator)"
      ],
      "metadata": {
        "colab": {
          "base_uri": "https://localhost:8080/"
        },
        "outputId": "815de3b8-6454-4f04-d11a-ba6de43b9730",
        "id": "BoFqEKnzvd0Y"
      },
      "execution_count": 26,
      "outputs": [
        {
          "output_type": "stream",
          "name": "stdout",
          "text": [
            "Epoch 1/20\n",
            "65/65 [==============================] - 40s 513ms/step - loss: 1.1090 - accuracy: 0.4358 - val_loss: 1.1073 - val_accuracy: 0.3399\n",
            "Epoch 2/20\n",
            "65/65 [==============================] - 29s 450ms/step - loss: 0.8812 - accuracy: 0.5989 - val_loss: 1.1928 - val_accuracy: 0.3399\n",
            "Epoch 3/20\n",
            "65/65 [==============================] - 29s 447ms/step - loss: 0.8052 - accuracy: 0.6404 - val_loss: 1.3498 - val_accuracy: 0.3399\n",
            "Epoch 4/20\n",
            "65/65 [==============================] - 29s 450ms/step - loss: 0.7754 - accuracy: 0.6569 - val_loss: 1.4642 - val_accuracy: 0.3399\n",
            "Epoch 5/20\n",
            "65/65 [==============================] - 29s 449ms/step - loss: 0.7332 - accuracy: 0.6877 - val_loss: 1.5262 - val_accuracy: 0.3399\n",
            "Epoch 6/20\n",
            "65/65 [==============================] - 29s 449ms/step - loss: 0.7034 - accuracy: 0.6979 - val_loss: 1.4289 - val_accuracy: 0.3399\n",
            "Epoch 7/20\n",
            "65/65 [==============================] - 29s 448ms/step - loss: 0.6690 - accuracy: 0.7148 - val_loss: 1.2357 - val_accuracy: 0.3455\n",
            "Epoch 8/20\n",
            "65/65 [==============================] - 29s 449ms/step - loss: 0.6711 - accuracy: 0.7148 - val_loss: 1.1150 - val_accuracy: 0.4410\n",
            "Epoch 9/20\n",
            "65/65 [==============================] - 29s 450ms/step - loss: 0.6437 - accuracy: 0.7307 - val_loss: 0.8977 - val_accuracy: 0.6039\n",
            "Epoch 10/20\n",
            "65/65 [==============================] - 30s 454ms/step - loss: 0.6450 - accuracy: 0.7457 - val_loss: 0.6978 - val_accuracy: 0.7444\n",
            "Epoch 11/20\n",
            "65/65 [==============================] - 31s 476ms/step - loss: 0.6250 - accuracy: 0.7442 - val_loss: 0.7269 - val_accuracy: 0.7556\n",
            "Epoch 12/20\n",
            "65/65 [==============================] - 29s 452ms/step - loss: 0.6358 - accuracy: 0.7336 - val_loss: 1.0394 - val_accuracy: 0.5197\n",
            "Epoch 13/20\n",
            "65/65 [==============================] - 29s 448ms/step - loss: 0.6344 - accuracy: 0.7317 - val_loss: 0.9006 - val_accuracy: 0.5506\n",
            "Epoch 14/20\n",
            "65/65 [==============================] - 29s 448ms/step - loss: 0.6310 - accuracy: 0.7495 - val_loss: 0.7433 - val_accuracy: 0.7416\n",
            "Epoch 15/20\n",
            "65/65 [==============================] - 29s 450ms/step - loss: 0.6168 - accuracy: 0.7505 - val_loss: 0.7028 - val_accuracy: 0.7781\n",
            "Epoch 16/20\n",
            "65/65 [==============================] - 29s 452ms/step - loss: 0.6363 - accuracy: 0.7452 - val_loss: 0.7434 - val_accuracy: 0.7275\n",
            "Epoch 17/20\n",
            "65/65 [==============================] - 29s 449ms/step - loss: 0.6023 - accuracy: 0.7625 - val_loss: 0.6903 - val_accuracy: 0.7669\n",
            "Epoch 18/20\n",
            "65/65 [==============================] - 29s 449ms/step - loss: 0.6109 - accuracy: 0.7572 - val_loss: 0.6408 - val_accuracy: 0.7781\n",
            "Epoch 19/20\n",
            "65/65 [==============================] - 29s 448ms/step - loss: 0.5913 - accuracy: 0.7688 - val_loss: 0.7538 - val_accuracy: 0.6320\n",
            "Epoch 20/20\n",
            "65/65 [==============================] - 29s 448ms/step - loss: 0.5894 - accuracy: 0.7630 - val_loss: 0.6898 - val_accuracy: 0.7640\n"
          ]
        }
      ]
    },
    {
      "cell_type": "code",
      "source": [
        "history_fine = model_resnet.history\n",
        "loss = history_fine.history['loss']\n",
        "val_loss = history_fine.history['val_loss']\n",
        "\n",
        "plt.plot(history_fine.history['loss'])\n",
        "plt.plot(history_fine.history['val_loss'])\n",
        "plt.title('model loss')\n",
        "plt.ylabel('loss')\n",
        "plt.xlabel('epoch')\n",
        "plt.legend(['training set','validation set'], loc='upper left')\n",
        "plt.show()"
      ],
      "metadata": {
        "colab": {
          "base_uri": "https://localhost:8080/",
          "height": 295
        },
        "outputId": "eeb4c6c4-da54-4241-a8b4-036620ab1972",
        "id": "eEZXEFGbvd0Y"
      },
      "execution_count": 27,
      "outputs": [
        {
          "output_type": "display_data",
          "data": {
            "text/plain": [
              "<Figure size 432x288 with 1 Axes>"
            ],
            "image/png": "[encoded data removed]"
          },
          "metadata": {
            "needs_background": "light"
          }
        }
      ]
    },
    {
      "cell_type": "markdown",
      "source": [
        ""
      ],
      "metadata": {
        "id": "Fx67nyVuvd0Y"
      }
    },
    {
      "cell_type": "code",
      "source": [
        "y_prob = model_resnet.predict(test_generator)\n",
        "y_pred = np.argmax(y_prob,axis=1)"
      ],
      "metadata": {
        "id": "EHLHVEelvd0Y"
      },
      "execution_count": 28,
      "outputs": []
    },
    {
      "cell_type": "code",
      "source": [
        "y_prob"
      ],
      "metadata": {
        "colab": {
          "base_uri": "https://localhost:8080/"
        },
        "outputId": "32f140bb-516f-45ba-fab9-87a1b447ad78",
        "id": "X4WCb3dXvd0Y"
      },
      "execution_count": 29,
      "outputs": [
        {
          "output_type": "execute_result",
          "data": {
            "text/plain": [
              "array([[0.22585869, 0.05659266, 0.7175486 ],\n",
              "       [0.15472116, 0.12863217, 0.7166467 ],\n",
              "       [0.12274604, 0.5668788 , 0.31037518],\n",
              "       ...,\n",
              "       [0.14130954, 0.48988727, 0.3688031 ],\n",
              "       [0.1179031 , 0.6063861 , 0.27571076],\n",
              "       [0.11843698, 0.26820856, 0.61335444]], dtype=float32)"
            ]
          },
          "metadata": {},
          "execution_count": 29
        }
      ]
    },
    {
      "cell_type": "code",
      "source": [
        "y_test = test_generator.classes"
      ],
      "metadata": {
        "id": "RzNSWsH_vd0Y"
      },
      "execution_count": 30,
      "outputs": []
    },
    {
      "cell_type": "code",
      "source": [
        "from sklearn.metrics import classification_report\n",
        "print(classification_report(y_test,y_pred))"
      ],
      "metadata": {
        "colab": {
          "base_uri": "https://localhost:8080/"
        },
        "outputId": "94c60c1a-6ec9-4a39-e998-17c5a383bacf",
        "id": "WCsCRhDsvd0Z"
      },
      "execution_count": 31,
      "outputs": [
        {
          "output_type": "stream",
          "name": "stdout",
          "text": [
            "              precision    recall  f1-score   support\n",
            "\n",
            "           0       0.37      0.26      0.31       184\n",
            "           1       0.29      0.25      0.26       170\n",
            "           2       0.31      0.44      0.36       179\n",
            "\n",
            "    accuracy                           0.32       533\n",
            "   macro avg       0.32      0.32      0.31       533\n",
            "weighted avg       0.32      0.32      0.31       533\n",
            "\n"
          ]
        }
      ]
    },
    {
      "cell_type": "markdown",
      "source": [
        "# ResNet50 com pré-treinamento de pesos imaget"
      ],
      "metadata": {
        "id": "eZ54u87wwE2e"
      }
    },
    {
      "cell_type": "code",
      "source": [
        "model_resnet_pt = Sequential()\n",
        "\n",
        "pre_trained_model = ResNet50(input_shape=(224,224,3),\n",
        "                             include_top=False,\n",
        "                             pooling='avg',\n",
        "                             weights=\"imagenet\",\n",
        "                             classes=num_classes)\n",
        "\n",
        "for layer in pre_trained_model.layers:\n",
        "  layer.trainable = False\n",
        "\n",
        "model_resnet_pt.add(pre_trained_model)\n",
        "model_resnet_pt.add(Flatten())\n",
        "model_resnet_pt.add(Dense(4096))\n",
        "model_resnet_pt.add(Activation(\"relu\"))\n",
        "model_resnet_pt.add(Dropout(0.5))\n",
        "\n",
        "model_resnet_pt.add(Dense(num_classes))\n",
        "model_resnet_pt.add(Activation(\"softmax\"))"
      ],
      "metadata": {
        "id": "pny-1Vwtq60U"
      },
      "execution_count": 32,
      "outputs": []
    },
    {
      "cell_type": "code",
      "source": [
        "model_resnet_pt.summary()"
      ],
      "metadata": {
        "colab": {
          "base_uri": "https://localhost:8080/"
        },
        "id": "IlxsAX4JsHiI",
        "outputId": "ee88d440-5f55-42ae-f489-b45bdf6c5b49"
      },
      "execution_count": 33,
      "outputs": [
        {
          "output_type": "stream",
          "name": "stdout",
          "text": [
            "Model: \"sequential_2\"\n",
            "_________________________________________________________________\n",
            " Layer (type)                Output Shape              Param #   \n",
            "=================================================================\n",
            " resnet50 (Functional)       (None, 2048)              23587712  \n",
            "                                                                 \n",
            " flatten_2 (Flatten)         (None, 2048)              0         \n",
            "                                                                 \n",
            " dense_5 (Dense)             (None, 4096)              8392704   \n",
            "                                                                 \n",
            " activation_10 (Activation)  (None, 4096)              0         \n",
            "                                                                 \n",
            " dropout_3 (Dropout)         (None, 4096)              0         \n",
            "                                                                 \n",
            " dense_6 (Dense)             (None, 3)                 12291     \n",
            "                                                                 \n",
            " activation_11 (Activation)  (None, 3)                 0         \n",
            "                                                                 \n",
            "=================================================================\n",
            "Total params: 31,992,707\n",
            "Trainable params: 8,404,995\n",
            "Non-trainable params: 23,587,712\n",
            "_________________________________________________________________\n"
          ]
        }
      ]
    },
    {
      "cell_type": "code",
      "source": [
        "sgd = SGD(lr=0.0001)\n",
        "\n",
        "model_resnet_pt.compile(optimizer=sgd,loss='categorical_crossentropy',metrics=['accuracy'])\n",
        "\n"
      ],
      "metadata": {
        "colab": {
          "base_uri": "https://localhost:8080/"
        },
        "outputId": "11def2b5-bbb5-453d-aafd-be369a3bf44d",
        "id": "FrfMnetGsPEE"
      },
      "execution_count": 34,
      "outputs": [
        {
          "output_type": "stream",
          "name": "stderr",
          "text": [
            "/usr/local/lib/python3.7/dist-packages/keras/optimizer_v2/gradient_descent.py:102: UserWarning: The `lr` argument is deprecated, use `learning_rate` instead.\n",
            "  super(SGD, self).__init__(name, **kwargs)\n"
          ]
        }
      ]
    },
    {
      "cell_type": "code",
      "source": [
        "history = model_resnet_pt.fit(train_generator,\n",
        "          epochs=20,\n",
        "          batch_size=16,\n",
        "          validation_data=valid_generator)"
      ],
      "metadata": {
        "colab": {
          "base_uri": "https://localhost:8080/"
        },
        "outputId": "07bc0205-dfa0-44fa-83c9-4a08093b42cb",
        "id": "cWbdAGdasPEF"
      },
      "execution_count": 35,
      "outputs": [
        {
          "output_type": "stream",
          "name": "stdout",
          "text": [
            "Epoch 1/20\n",
            "65/65 [==============================] - 16s 201ms/step - loss: 1.1460 - accuracy: 0.3769 - val_loss: 1.0141 - val_accuracy: 0.5674\n",
            "Epoch 2/20\n",
            "65/65 [==============================] - 11s 175ms/step - loss: 1.1228 - accuracy: 0.4146 - val_loss: 0.9705 - val_accuracy: 0.6517\n",
            "Epoch 3/20\n",
            "65/65 [==============================] - 11s 175ms/step - loss: 1.0447 - accuracy: 0.4706 - val_loss: 0.9330 - val_accuracy: 0.7163\n",
            "Epoch 4/20\n",
            "65/65 [==============================] - 11s 173ms/step - loss: 1.0104 - accuracy: 0.4889 - val_loss: 0.9034 - val_accuracy: 0.6910\n",
            "Epoch 5/20\n",
            "65/65 [==============================] - 11s 174ms/step - loss: 0.9927 - accuracy: 0.5053 - val_loss: 0.8752 - val_accuracy: 0.7584\n",
            "Epoch 6/20\n",
            "65/65 [==============================] - 12s 185ms/step - loss: 0.9784 - accuracy: 0.5323 - val_loss: 0.8541 - val_accuracy: 0.7669\n",
            "Epoch 7/20\n",
            "65/65 [==============================] - 11s 173ms/step - loss: 0.9360 - accuracy: 0.5473 - val_loss: 0.8346 - val_accuracy: 0.7612\n",
            "Epoch 8/20\n",
            "65/65 [==============================] - 11s 173ms/step - loss: 0.9280 - accuracy: 0.5632 - val_loss: 0.8173 - val_accuracy: 0.7809\n",
            "Epoch 9/20\n",
            "65/65 [==============================] - 12s 179ms/step - loss: 0.9026 - accuracy: 0.5632 - val_loss: 0.8016 - val_accuracy: 0.7753\n",
            "Epoch 10/20\n",
            "65/65 [==============================] - 12s 178ms/step - loss: 0.8858 - accuracy: 0.5874 - val_loss: 0.7872 - val_accuracy: 0.7921\n",
            "Epoch 11/20\n",
            "65/65 [==============================] - 11s 175ms/step - loss: 0.8744 - accuracy: 0.5980 - val_loss: 0.7754 - val_accuracy: 0.7584\n",
            "Epoch 12/20\n",
            "65/65 [==============================] - 11s 175ms/step - loss: 0.8377 - accuracy: 0.6284 - val_loss: 0.7626 - val_accuracy: 0.8006\n",
            "Epoch 13/20\n",
            "65/65 [==============================] - 11s 174ms/step - loss: 0.8441 - accuracy: 0.6144 - val_loss: 0.7537 - val_accuracy: 0.8006\n",
            "Epoch 14/20\n",
            "65/65 [==============================] - 12s 184ms/step - loss: 0.8220 - accuracy: 0.6342 - val_loss: 0.7433 - val_accuracy: 0.8146\n",
            "Epoch 15/20\n",
            "65/65 [==============================] - 11s 173ms/step - loss: 0.8095 - accuracy: 0.6559 - val_loss: 0.7332 - val_accuracy: 0.7921\n",
            "Epoch 16/20\n",
            "65/65 [==============================] - 12s 185ms/step - loss: 0.8169 - accuracy: 0.6298 - val_loss: 0.7234 - val_accuracy: 0.8062\n",
            "Epoch 17/20\n",
            "65/65 [==============================] - 12s 182ms/step - loss: 0.8059 - accuracy: 0.6400 - val_loss: 0.7148 - val_accuracy: 0.8118\n",
            "Epoch 18/20\n",
            "65/65 [==============================] - 11s 173ms/step - loss: 0.7649 - accuracy: 0.6863 - val_loss: 0.7082 - val_accuracy: 0.8174\n",
            "Epoch 19/20\n",
            "65/65 [==============================] - 11s 174ms/step - loss: 0.7659 - accuracy: 0.6607 - val_loss: 0.6999 - val_accuracy: 0.8090\n",
            "Epoch 20/20\n",
            "65/65 [==============================] - 11s 173ms/step - loss: 0.7730 - accuracy: 0.6646 - val_loss: 0.6963 - val_accuracy: 0.7893\n"
          ]
        }
      ]
    },
    {
      "cell_type": "code",
      "source": [
        "history_fine = model_resnet_pt.history\n",
        "loss = history_fine.history['loss']\n",
        "val_loss = history_fine.history['val_loss']\n",
        "\n",
        "plt.plot(history_fine.history['loss'])\n",
        "plt.plot(history_fine.history['val_loss'])\n",
        "plt.title('model loss')\n",
        "plt.ylabel('loss')\n",
        "plt.xlabel('epoch')\n",
        "plt.legend(['training set','validation set'], loc='upper left')\n",
        "plt.show()"
      ],
      "metadata": {
        "colab": {
          "base_uri": "https://localhost:8080/",
          "height": 295
        },
        "outputId": "7019f2fa-216d-4ef9-ce82-4277736c7df4",
        "id": "sc-pQx7ZtRbE"
      },
      "execution_count": 36,
      "outputs": [
        {
          "output_type": "display_data",
          "data": {
            "text/plain": [
              "<Figure size 432x288 with 1 Axes>"
            ],
            "image/png": "[encoded data removed]"
          },
          "metadata": {
            "needs_background": "light"
          }
        }
      ]
    },
    {
      "cell_type": "markdown",
      "source": [
        ""
      ],
      "metadata": {
        "id": "TUrAsckhtRbF"
      }
    },
    {
      "cell_type": "code",
      "source": [
        "y_prob = model_resnet_pt.predict(test_generator)\n",
        "y_pred = np.argmax(y_prob,axis=1)"
      ],
      "metadata": {
        "id": "nSVqY2C0tRbF"
      },
      "execution_count": 37,
      "outputs": []
    },
    {
      "cell_type": "code",
      "source": [
        "y_prob"
      ],
      "metadata": {
        "colab": {
          "base_uri": "https://localhost:8080/"
        },
        "outputId": "5267d591-0f5d-441a-996a-c40d28d924e1",
        "id": "if8Quj66tRbF"
      },
      "execution_count": 38,
      "outputs": [
        {
          "output_type": "execute_result",
          "data": {
            "text/plain": [
              "array([[0.24984297, 0.26031107, 0.48984596],\n",
              "       [0.49486715, 0.26920256, 0.2359303 ],\n",
              "       [0.13804692, 0.6093214 , 0.25263175],\n",
              "       ...,\n",
              "       [0.24535862, 0.41742066, 0.33722076],\n",
              "       [0.14945218, 0.5841459 , 0.26640195],\n",
              "       [0.20426022, 0.4020179 , 0.39372194]], dtype=float32)"
            ]
          },
          "metadata": {},
          "execution_count": 38
        }
      ]
    },
    {
      "cell_type": "code",
      "source": [
        "y_test = test_generator.classes"
      ],
      "metadata": {
        "id": "V5AM6q4FtRbF"
      },
      "execution_count": 39,
      "outputs": []
    },
    {
      "cell_type": "code",
      "source": [
        "from sklearn.metrics import classification_report\n",
        "print(classification_report(y_test,y_pred))"
      ],
      "metadata": {
        "colab": {
          "base_uri": "https://localhost:8080/"
        },
        "outputId": "5334550a-3934-4ebe-fb69-cc7a51d3c40c",
        "id": "HTyZxReHtRbF"
      },
      "execution_count": 40,
      "outputs": [
        {
          "output_type": "stream",
          "name": "stdout",
          "text": [
            "              precision    recall  f1-score   support\n",
            "\n",
            "           0       0.34      0.33      0.34       184\n",
            "           1       0.29      0.38      0.33       170\n",
            "           2       0.29      0.22      0.25       179\n",
            "\n",
            "    accuracy                           0.31       533\n",
            "   macro avg       0.31      0.31      0.31       533\n",
            "weighted avg       0.31      0.31      0.31       533\n",
            "\n"
          ]
        }
      ]
    },
    {
      "cell_type": "markdown",
      "source": [
        "#Em uma análise comparativa rápida, podemos notar que infelizmente os f1-scores dos modelos ainda ficaram baixos, indicando um alta possibilidade de overffiting.\n",
        "\n",
        "f1-score  AlexNet:\n",
        "*  0.36    \n",
        "*  0.37    \n",
        "*  0.27   \n",
        "\n",
        "f1-score Resnet50 sem pré treinamento:\n",
        "*  0.31       \n",
        "*  0.26   \n",
        "*  0.36\n",
        "   \n",
        "f1-score Resnet50 COM pré treinamento:\n",
        "*  0.34      \n",
        "*  0.33   \n",
        "*  0.25\n",
        "\n"
      ],
      "metadata": {
        "id": "I1cb31rDnW2L"
      }
    },
    {
      "cell_type": "markdown",
      "source": [
        "# Extraindo texto das imagens"
      ],
      "metadata": {
        "id": "O2G50uLhZo_-"
      }
    },
    {
      "cell_type": "markdown",
      "source": [
        "testes com pymupdf:"
      ],
      "metadata": {
        "id": "J6-J6zNb96p3"
      }
    },
    {
      "cell_type": "code",
      "source": [
        "#!pip install pymupdf"
      ],
      "metadata": {
        "id": "-ThPg_LxZswM"
      },
      "execution_count": 41,
      "outputs": []
    },
    {
      "cell_type": "code",
      "source": [
        "#import fitz"
      ],
      "metadata": {
        "id": "aY7SJhFsheOv"
      },
      "execution_count": 42,
      "outputs": []
    },
    {
      "cell_type": "code",
      "source": [
        "# #path_documents = 'document'\n",
        "# #lista_subfolders = os.listdir(path_documents)\n",
        "\n",
        "# #dataset_dict = {}\n",
        "\n",
        "# #dataset_dict['filename'] = []\n",
        "# #dataset_dict['label'] = []\n",
        "\n",
        "# # for folder in lista_subfolders:\n",
        "# #   lista_imagens = os.listdir(path_documents+'/'+folder)\n",
        "# #   for img_file in lista_imagens:\n",
        "# #     doc = fitz.open(path_documents+'/'+folder+'/'+img_file)\n",
        "# #     for page in doc:  # iterate the document pages\n",
        "# #       text = page.get_text().encode(\"utf8\")  # get plain text (is in UTF-8)\n",
        "# #       print(text)\n",
        "\n",
        "# for folder in lista_subfolders:\n",
        "#   lista_imagens = os.listdir(path_documents+'/'+folder)\n",
        "#   for img_file in lista_imagens:\n",
        "#     doc = fitz.open(path_documents+'/'+folder+'/'+img_file)\n",
        "#     for page_index in range(len(doc)):\n",
        "        \n",
        "#         # get the page itself\n",
        "#         page = doc[page_index]\n",
        "#         image_list = page.getImageList()\n",
        "          \n",
        "#         # printing number of images found in this page\n",
        "#         if image_list:\n",
        "#             print(f\"[+] Found a total of {len(image_list)} images in page {page_index}\")\n",
        "#         else:\n",
        "#             print(\"[!] No images found on page\", page_index)\n",
        "#         for image_index, img in enumerate(page.getImageList(), start=1):\n",
        "            \n",
        "#             # get the XREF of the image\n",
        "#             xref = img[0]\n",
        "              \n",
        "#             # extract the image bytes\n",
        "#             base_image = doc.extractImage(xref)\n",
        "#             image_bytes = base_image[\"image\"]\n",
        "              \n",
        "#             # get the image extension\n",
        "#             image_ext = base_image[\"ext\"]\n",
        "#             print(image_ext)"
      ],
      "metadata": {
        "id": "AtDNuJk6h3Jj"
      },
      "execution_count": 43,
      "outputs": []
    },
    {
      "cell_type": "markdown",
      "source": [
        "testes com keras-ocr:"
      ],
      "metadata": {
        "id": "bk2mENuf9_e3"
      }
    },
    {
      "cell_type": "code",
      "source": [
        "# !pip install keras-ocr"
      ],
      "metadata": {
        "colab": {
          "base_uri": "https://localhost:8080/"
        },
        "id": "2powIs-a1xD9",
        "outputId": "1a59ccd9-b82a-467e-cb79-639366f1441d"
      },
      "execution_count": 44,
      "outputs": [
        {
          "output_type": "stream",
          "name": "stdout",
          "text": [
            "Looking in indexes: https://pypi.org/simple, https://us-python.pkg.dev/colab-wheels/public/simple/\n",
            "Requirement already satisfied: keras-ocr in /usr/local/lib/python3.7/dist-packages (0.9.1)\n",
            "Requirement already satisfied: pyclipper in /usr/local/lib/python3.7/dist-packages (from keras-ocr) (1.3.0.post3)\n",
            "Requirement already satisfied: validators in /usr/local/lib/python3.7/dist-packages (from keras-ocr) (0.20.0)\n",
            "Requirement already satisfied: imgaug in /usr/local/lib/python3.7/dist-packages (from keras-ocr) (0.4.0)\n",
            "Requirement already satisfied: essential_generators in /usr/local/lib/python3.7/dist-packages (from keras-ocr) (1.0)\n",
            "Requirement already satisfied: shapely in /usr/local/lib/python3.7/dist-packages (from keras-ocr) (1.8.4)\n",
            "Requirement already satisfied: fonttools in /usr/local/lib/python3.7/dist-packages (from keras-ocr) (4.36.0)\n",
            "Requirement already satisfied: efficientnet==1.0.0 in /usr/local/lib/python3.7/dist-packages (from keras-ocr) (1.0.0)\n",
            "Requirement already satisfied: editdistance in /usr/local/lib/python3.7/dist-packages (from keras-ocr) (0.5.3)\n",
            "Requirement already satisfied: tqdm in /usr/local/lib/python3.7/dist-packages (from keras-ocr) (4.64.0)\n",
            "Requirement already satisfied: keras-applications<=1.0.8,>=1.0.7 in /usr/local/lib/python3.7/dist-packages (from efficientnet==1.0.0->keras-ocr) (1.0.8)\n",
            "Requirement already satisfied: scikit-image in /usr/local/lib/python3.7/dist-packages (from efficientnet==1.0.0->keras-ocr) (0.18.3)\n",
            "Requirement already satisfied: h5py in /usr/local/lib/python3.7/dist-packages (from keras-applications<=1.0.8,>=1.0.7->efficientnet==1.0.0->keras-ocr) (3.1.0)\n",
            "Requirement already satisfied: numpy>=1.9.1 in /usr/local/lib/python3.7/dist-packages (from keras-applications<=1.0.8,>=1.0.7->efficientnet==1.0.0->keras-ocr) (1.21.6)\n",
            "Requirement already satisfied: cached-property in /usr/local/lib/python3.7/dist-packages (from h5py->keras-applications<=1.0.8,>=1.0.7->efficientnet==1.0.0->keras-ocr) (1.5.2)\n",
            "Requirement already satisfied: Pillow in /usr/local/lib/python3.7/dist-packages (from imgaug->keras-ocr) (7.1.2)\n",
            "Requirement already satisfied: matplotlib in /usr/local/lib/python3.7/dist-packages (from imgaug->keras-ocr) (3.2.2)\n",
            "Requirement already satisfied: six in /usr/local/lib/python3.7/dist-packages (from imgaug->keras-ocr) (1.15.0)\n",
            "Requirement already satisfied: opencv-python in /usr/local/lib/python3.7/dist-packages (from imgaug->keras-ocr) (4.6.0.66)\n",
            "Requirement already satisfied: imageio in /usr/local/lib/python3.7/dist-packages (from imgaug->keras-ocr) (2.9.0)\n",
            "Requirement already satisfied: scipy in /usr/local/lib/python3.7/dist-packages (from imgaug->keras-ocr) (1.7.3)\n",
            "Requirement already satisfied: tifffile>=2019.7.26 in /usr/local/lib/python3.7/dist-packages (from scikit-image->efficientnet==1.0.0->keras-ocr) (2021.11.2)\n",
            "Requirement already satisfied: PyWavelets>=1.1.1 in /usr/local/lib/python3.7/dist-packages (from scikit-image->efficientnet==1.0.0->keras-ocr) (1.3.0)\n",
            "Requirement already satisfied: networkx>=2.0 in /usr/local/lib/python3.7/dist-packages (from scikit-image->efficientnet==1.0.0->keras-ocr) (2.6.3)\n",
            "Requirement already satisfied: python-dateutil>=2.1 in /usr/local/lib/python3.7/dist-packages (from matplotlib->imgaug->keras-ocr) (2.8.2)\n",
            "Requirement already satisfied: kiwisolver>=1.0.1 in /usr/local/lib/python3.7/dist-packages (from matplotlib->imgaug->keras-ocr) (1.4.4)\n",
            "Requirement already satisfied: pyparsing!=2.0.4,!=2.1.2,!=2.1.6,>=2.0.1 in /usr/local/lib/python3.7/dist-packages (from matplotlib->imgaug->keras-ocr) (3.0.9)\n",
            "Requirement already satisfied: cycler>=0.10 in /usr/local/lib/python3.7/dist-packages (from matplotlib->imgaug->keras-ocr) (0.11.0)\n",
            "Requirement already satisfied: typing-extensions in /usr/local/lib/python3.7/dist-packages (from kiwisolver>=1.0.1->matplotlib->imgaug->keras-ocr) (4.1.1)\n",
            "Requirement already satisfied: decorator>=3.4.0 in /usr/local/lib/python3.7/dist-packages (from validators->keras-ocr) (4.4.2)\n"
          ]
        }
      ]
    },
    {
      "cell_type": "code",
      "source": [
        "# import keras_ocr \n",
        "# pipeline = keras_ocr.pipeline.Pipeline()"
      ],
      "metadata": {
        "colab": {
          "base_uri": "https://localhost:8080/"
        },
        "id": "koLcDnqY11AT",
        "outputId": "983c35d3-3453-43e8-955a-d98023a9630e"
      },
      "execution_count": 45,
      "outputs": [
        {
          "output_type": "stream",
          "name": "stdout",
          "text": [
            "Looking for /root/.keras-ocr/craft_mlt_25k.h5\n",
            "Looking for /root/.keras-ocr/crnn_kurapan.h5\n"
          ]
        }
      ]
    },
    {
      "cell_type": "code",
      "source": [
        "# path_documents = 'drive/MyDrive/full_3/advertisement'\n",
        "# lista_subfolders = os.listdir(path_documents)\n",
        "\n",
        "# print(lista_subfolders)\n",
        "\n",
        "# lista_path=[]\n",
        "\n",
        "# # for folder in lista_subfolders:\n",
        "# #   lista_imagens = os.listdir(path_documents+'/'+folder)\n",
        "# #   for img_file in lista_imagens:\n",
        "# #     lista_path.append(path_documents+'/'+folder+'/'+img_file)\n",
        "\n",
        "# #images = [keras_ocr.tools.read(url) for url in lista_subfolders]\n",
        "# images = [keras_ocr.tools.read(path_documents+'/'+url) for url in lista_subfolders]\n"
      ],
      "metadata": {
        "colab": {
          "base_uri": "https://localhost:8080/"
        },
        "id": "DuWKQWCT129q",
        "outputId": "d8e9c61c-1058-48b8-fd3c-710b7d09b534"
      },
      "execution_count": 46,
      "outputs": [
        {
          "output_type": "stream",
          "name": "stdout",
          "text": [
            "['71388738.tif', '01792718.tif', '2072280165.tif', '83847108a.tif', 'tob00301.79.tif', '91654603_4604.tif', '2084510910_0912.tif', '7794.tif', '89912652.tif', '01339594.tif', '71895001.tif', '2063810365.tif', '1002762055.tif', '92203104.tif', '0000897105.tif', '1002762820.tif', '882450.tif', '2045483235.tif', '2085146174.tif', '2023702624.tif', '4090.tif', '502593031.tif', '2061000197.tif', '0208.tif', '2061012521.tif', '3188.tif', '0330.tif', '2084427752_7753.tif', '71172802.tif', '0071.tif', '502594234.tif', '03079144.tif', '2072942359.tif', '1002762737.tif', '5400.tif', '502597050.tif', '03028833.tif', '9302.tif', '93366243.tif', '502592933.tif', 'tim00787.81.tif', '2070738231.tif', '1002763063.tif', 'okl00123.62.tif', '501948072.tif', '501948873_501948974.tif', '2070718725.tif', '82262421_2422.tif', '2084412659_2660.tif', '2071466675.tif', '2070712178_2179.tif', '507806716.tif', '506728188.tif', '502473366.tif', '514087932.tif', '2021255635.tif', '2058502189.tif', '2084420118_0119.tif', '99336741_6744.tif', 'ti04870788_0789.tif', '2084427699_7700.tif', '2040260804.tif', '00001168.tif', '85086168.tif', '5002.tif', '85145828_85145829.tif', '502596764.tif', '2041867676.tif', '3112.tif', '502592932.tif', '86440918.tif', '85145210_85145211.tif', '12113245.tif', '2021524973.tif', '89749656.tif', '2061003116.tif', '502472719.tif', '4560.tif', '2042348171.tif', '7870.tif', '1003071282.tif', 'tob03608.28_tob03608.30.tif', '502590245.tif', '2084395545_5546.tif', '0423.tif', '2061000780.tif', '2061014755.tif', '2012360001.tif', '03280674.tif', '2235.tif', '2061000109.tif', '516660535.tif', '91656940_91656942.tif', '1002762221.tif', '9812.tif', '0030048079.tif', '933726.tif', '91582039_91582040.tif', '502598229.tif', '89702605_2606.tif', '93420872.tif', '3600.tif', '2070718193.tif', '99333907_3908.tif', '1002325901.tif', '2084481527.tif', '2084413682_3683.tif', '2010017111.tif', '502219778.tif', '9707.tif', '71333931.tif', '71417987.tif', '502219889.tif', '92208973_8980.tif', '503950458.tif', '2041435840.tif', '5116.tif', '2085745269_5272.tif', '1002760769.tif', 'tob08900.78.tif', '5603.tif', '932269.tif', '13015247.tif', '71896575.tif', '1002761914.tif', '92227376_7377.tif', '5311.tif', '2061003027.tif', '2041734973.tif', '87065292.tif', '91381691.tif', '2040286584.tif', '2047174060.tif', '2271.tif', '2061193799.tif', '89749582.tif', '03551082.tif', '2058501903.tif', '1002763006.tif', '2065155828.tif', '2064933022.tif', '0000136737.tif', '1002760758.tif', '8857.tif', '0232.tif', '2061000379.tif', '2061012535.tif', '502471850.tif', '503943916.tif', 'tob00306.01.tif', '71895780.tif', '3491.tif', '502593453.tif', '03324678_4679.tif', '3127.tif', '2070501327_1328.tif', '2058504851.tif', '502218282.tif', '2084397005.tif', '04107387.tif', '502597911.tif', '512004064.tif', '502593190.tif', '93376328.tif', '2501127951.tif', '0012191226.tif', '2042790777.tif', '85757857.tif', '503960388.tif', '502219645.tif', '2084512406_2407.tif', '2070501503_1504.tif', '9107.tif', '71144918.tif', '502471500.tif', '1000290781.tif', '93366284.tif', '503950084.tif', '2062102792.tif', '8130.tif', '0071087146.tif', '89691083.tif', '82262423_2424.tif', '03077242.tif', '2984.tif', '0001059312.tif', '5125.tif', '2043305554.tif', '87064339.tif', '2046504755.tif', '8573.tif', '2084510944.tif', '2077046325.tif', '91289452.tif', '2084419457_9458.tif', '2061004543.tif', '93335241.tif', '1002763427.tif', '2501476864.tif', '0071086626.tif', '2058502380.tif', '1002763199.tif', 'ton01411.64.tif', '2084510983.tif', '502218828.tif', '7806.tif', '0030048610.tif', '13030326.tif', '502597993.tif', 'tob15625.46.tif', '12825255.tif', '2084194091.tif', '2070494371_4372.tif', '515682650.tif', '2084420466_0467.tif', '9725.tif', '2071466159_6160.tif', '2043837930.tif', '2040423927_2040423928.tif', '2840.tif', '517501795_517501796.tif', '01811125.tif', '0747.tif', '71427590.tif', '0000031285.tif', '2047105529.tif', '0071086386.tif', '8925.tif', '502592233.tif', '2071724914.tif', '2041400273.tif', '506895727.tif', '501947978.tif', '2307.tif', '92597730.tif', '9744.tif', '5651.tif', '0701.tif', '2084481610_1611.tif', '2025479877.tif', '2058501728.tif', '71387900.tif', '2040079968.tif', '2070514775_4776.tif', '71394307.tif', '509133798.tif', '5416.tif', '502218353.tif', '03552549.tif', 'okl00121.44_okl00121.45.tif', '502218300.tif', '71206550.tif', '2058504894.tif', '4943.tif', 'tob02900.23_tob02900.26.tif', '9115.tif', '2071383701.tif', '502596697.tif', '2061013618.tif', '0000183298.tif', '2044927204.tif', '0843.tif', '89578427.tif', '2047353516.tif', '91558032.tif', '5192.tif', '03055529.tif', '92247591_7592.tif', '2061193229.tif', '01759653.tif', '85200304.tif', '5779.tif', '2058500622.tif', '2028713753.tif', '503950329.tif', '0000156482.tif', '71513660.tif', '2044905226.tif', '0000138441.tif', '2042812130.tif', '500028505_500028506.tif', '2504076455.tif', '2815.tif', '4601.tif', '2071580800.tif', '2071725359.tif', '502596557.tif', '93367665.tif', '2045716455.tif', '502472943.tif', '2026002661.tif', '502594827.tif', '0000126074.tif', '2042518497.tif', '2504059832.tif', '2061193717.tif', '2070713163_3164.tif', '2048601398.tif', '91582269_91582270.tif', '71895383.tif', '2041510340.tif', '8630.tif', '71894729.tif', '500712676.tif', '503781413.tif', '502218688.tif', '1002761980.tif', '2064952474.tif', '9161.tif', '2061009471.tif', '2023588474.tif', '2023039048.tif', '0700.tif', '87651096.tif', '2061193775.tif', '2530.tif', '2042673988.tif', '71138419.tif', '502595077.tif', '0000183205.tif', '4256.tif', '5885.tif', '8116.tif', '2042812106.tif', '2084413974_3975.tif', '0000276816.tif', '2063688828.tif', '0071086423.tif', '3243.tif', '1002760292.tif', 'tob03308.14_tob03308.15.tif', '2061011973.tif', '502598019.tif', '71389198.tif', '2084412733_2734.tif', '2553.tif', '2084511062.tif', '502471372.tif', '2064962219.tif', '2070672494.tif', '2029099936.tif', '2058503488.tif', '2063687033.tif', '0000171775.tif', 'tob08801.94.tif', '2084511136_1137.tif', '2021311155.tif', '1326.tif', '03017851.tif', '2070712120_2121.tif', '3853.tif', '2080905986.tif', '509131158.tif', '502593737.tif', '04414395_04414398.tif', '10129174.tif', 'okl00120.86.tif', '503944191.tif', '502594947.tif', '85145278_85145279.tif', '2500134515.tif', '502598695.tif', '9900.tif', '2084397257_7258.tif', 'tob00606.78.tif', '03066636.tif', '2056956260.tif', '60002664_60002680.tif', '9759.tif', 'tob07504.65.tif', '2058500460.tif', '9100.tif', '2058504791.tif', '0000445721.tif', '1654.tif', '86069434.tif', '2058504262.tif', '2047105423.tif', '2041244337.tif', '503738731.tif', '2048748341.tif', '502595373.tif', '2361.tif', '9014.tif', '12737639.tif', '502474567.tif', '2047984708.tif', '2084512394_2395.tif', '00005458.tif', '0028.tif', '0008.tif', '502141663.tif', '71895136.tif', '2045629190a.tif', '502856733.tif', '6808.tif', '2070219358.tif', '91581902_91581903.tif', '2043964431.tif', '91691922_91691923.tif', '2041099165.tif', '502474353.tif', '0000541770.tif', '506867929.tif', '0641.tif', '502114328.tif', '2025417293.tif', '502474553.tif', '87064586.tif', '92205136.tif', '2041400080.tif', '71178011.tif', '85203358.tif', '2576.tif', '0400.tif', '71894446.tif', '0169.tif', '84402585.tif', '91381693.tif', '501948465.tif', '502595816.tif', '71427532.tif', '1002916969.tif', '6132.tif', '2070190891.tif', '2058504399.tif', '71333910.tif', '91383464.tif', '503961596.tif', '85127576.tif', '2041102795.tif', '03568203_8204.tif', '03325703.tif', '2070718746.tif', '2083891525.tif', '8790.tif', '0071087137.tif', '2044205282.tif', '91845821.tif', '503950454.tif', '1001533412.tif', '2080582930.tif', '2040235706_2040235707.tif', '04148294.tif', '71895696.tif', '71427329.tif', '502471013.tif', '9151.tif', '2064967014.tif', '87062399.tif', '71390442.tif', '03842367.tif', '502473551.tif', '2072942641.tif', '71364068.tif', '04102200.tif', '2063573869_2063573872.tif', '01744673.tif', '1002430551.tif', '502591787.tif', '87048129.tif', '1002760784.tif', '3002955901.tif', '71953527.tif', '2752.tif', '2025858757.tif', '0071087439.tif', '2063737965.tif', '2080263049.tif', '03022976.tif', 'tob07516.16_tob07516.20.tif', '7145.tif', '96323452.tif', '502141063.tif', '9504.tif', '0005.tif', '2061163253.tif', '2061001431.tif', '2080147280.tif', '2073207951.tif', '71898282.tif', '1002484597.tif', '2047134879.tif', '2377.tif', '1002761984.tif', '1002325289.tif', '503950193.tif', '0030049050.tif', '2084420809.tif', '2058504145.tif', '2040817680.tif', 'tob08814.43.tif', '937317.tif', '503781471.tif', '1002761317.tif', '71389360.tif', '92207597_7599.tif', '2058504593.tif', '99342773.tif', '2045624234.tif', '2072942737.tif', '2084419688_9689.tif', '71896360.tif', '2061002157.tif', '6939.tif', '71896050.tif', '0287.tif', '91357296.tif', '2699.tif', '2958.tif', '2069546427.tif', '3590.tif', '2061002679.tif', '96314381b.tif', '85382622.tif', '2047524325.tif', '2084511265_1266.tif', '2071466730_6731.tif', '501947814.tif', '502592658.tif', '83648518.tif', '12845000.tif', '2070190110.tif', '2071593519.tif', '502473575.tif', '0011919851.tif', '93330848.tif', '2073068438.tif', '0000230270.tif', '2041516000.tif', '1005201597.tif', '2070672318.tif', '98250377.tif', '71895191.tif', '4905.tif', '501948092.tif', '2070549523.tif', '2085044058.tif', '0000300956.tif', '502219536.tif', '8888.tif', '614294.tif', '502219639.tif', '85191881.tif', '515199224.tif', '2084412881a_2882.tif', '2061002201.tif', '2058504618.tif', '922918.tif', '503781608.tif', '01795332.tif', '502473921.tif', '4215.tif', '0030048725.tif', '2084420907.tif', '71389296.tif', '0030049518.tif', '5088.tif', '502593170.tif', '2231.tif', '2065074169.tif', '3861.tif', '502605299a_502605300.tif', '0000173905.tif', '2058501147.tif', '2065126942_6943.tif', '0000160476.tif', '71389796.tif', '71465898.tif', '2058502149.tif', '2061002753.tif', '7119.tif', '2081191534.tif', '92367937.tif', '00001172.tif', '12887983.tif', '1002515015.tif', '2501211473.tif', 'ti08971387.tif', '2061190745.tif', '872524.tif', '9101.tif', '1002666345_1002666346.tif', '92242609.tif', '2065336308.tif', '2072281215_1216.tif', '502015357.tif', '71898272.tif', '03718007.tif', '503782092.tif', '82262482_2483.tif', '86103015.tif', '0030049436.tif', '03061449.tif', '96298422.tif', '2041510338.tif', '2085049770.tif', '1002325500.tif', '7513.tif', '1230.tif', '502596090.tif', '0000299936.tif', 'tob14818.24.tif', '0000506655.tif', '502595921.tif', '2070671801.tif', '502597638.tif', '502218340.tif', '2047938841.tif', '1797.tif', '0030049506.tif', '2084421242_1243.tif', '82611859.tif', '2058503120.tif', '503781590.tif', '502296522.tif', '2070549508.tif', '13158677.tif', '0000126140.tif', '2041771513.tif', '2058502430.tif', '9290.tif', '2077576026.tif', '1002484123.tif', '2058502903.tif', '5025.tif', '2042517555.tif', '1907.tif', '502594405.tif', '2084409181_9182.tif', '2040841986.tif', '614668.tif', '2393.tif', '502218235.tif', '91717088_7089.tif', '2044146241.tif', '71953450.tif', '2047934414.tif', '3235.tif', '0121.tif', '2500131189.tif', '502612536a.tif', '71393911.tif', '2016.tif', '502598029.tif', '94061137.tif', '2046965620.tif', '71394255.tif', '2047923113.tif', '502593818.tif', '2870.tif', '2084296681.tif', '2061190458.tif', '2021311151.tif', '92206159.tif', '502591045.tif', '13030256.tif', '503960375.tif', '71896436.tif', '0000225246.tif', '2081791381.tif', '96324309.tif', '500163773.tif', '4589.tif', '2084419441_9442.tif', '502594762.tif', '509134254_509134255.tif', '98681125.tif', '2084408725_8726.tif', '8551.tif', '2504085123.tif', '85372460.tif', 'tob02415.81.tif', '2063675231.tif', '2504011543.tif', '2050761257.tif', 'tob00117.88.tif', '2061011925.tif', '81770813.tif', '71898524.tif', '92747631.tif', '2084511839_1840.tif', '1002430671.tif', '9495.tif', '1958.tif', '2084413837_3838.tif', '2076191568.tif', '2040803207.tif', '502473028.tif', '83647155.tif', '2073133635.tif', '4127.tif', '2058500790.tif', '13140423.tif', '2084412970_2971.tif', '92252173.tif', '503867641_503867648.tif', '9.tif', '502472469.tif', '1782.tif', '71393887.tif', '2081532820.tif', 'tob08105.17.tif', '71898465.tif', 'a.tif', '512563705_512563706.tif', '91554916.tif', '2085025448.tif', '2058503659.tif', '500739503.tif', '2061002667.tif', '2061190775.tif', '1002762294.tif', '71390090.tif', '602102.tif', '2070501624_1625.tif', '87688518.tif', '2058503841.tif', '8436.tif', '12825253.tif', '2041928851.tif', '12995821.tif', '502473964.tif', '2070499242_9243.tif', '0738.tif', '502219851.tif', '4775.tif', '2061190863.tif', '2049399985_2049399987.tif', '71148997.tif', '4434.tif', '502219506.tif', '92729096.tif', '2042472426.tif', '2061002451.tif', '3100.tif', '2040971865.tif', '2045624716.tif', '502597994.tif', '501272271.tif', '1991.tif', '2084412765_2766.tif', '0271.tif', '2436.tif', '71368555.tif', '04140326.tif', '2044194169.tif', '5548.tif', '725640.tif', '2070712027_2028.tif', '0000126379.tif', '6031.tif', '71513746.tif', '5435.tif', '502599350.tif', '2501241143.tif', '2058502598.tif', '506897638.tif', '2058501271.tif', '71366105.tif', '1002762563.tif', '3246.tif', '2071466649.tif', '7559.tif', '03833263.tif', '0000299027.tif', '0071087287.tif', '502592873.tif', '5623.tif', '516717193_516717198.tif', '517501783.tif', '8843.tif', '506940498.tif', 'tob14317.62.tif', '2070713550.tif', '2058504383.tif', '2043149318.tif', '2061014810.tif', '2071580620.tif', '2083423225_3227.tif', '0031.tif', '2021152533.tif', '2084481776_1777.tif', '71333925.tif', '0064.tif', '502471840.tif', '92248246_8247.tif', '2069546475.tif', '682100.tif', '2211.tif', '2084413969_3970.tif', '2501021119.tif', '92525530.tif', '2061001740.tif', '71895262.tif', '502599060.tif', '2064856216.tif', '03195145.tif', '82633395.tif', '2084427309_7310.tif', '502595562.tif', '2071466979_6980.tif', '91044757.tif', '0000264427.tif', '926829.tif', '503781435.tif', '0000035285.tif', '2501053658.tif', '2041015893.tif', '2048666815.tif', '71388420.tif', '71165302.tif', '503943964.tif', '0000435232.tif', 'tob08001.94.tif', '87688473.tif', '6247.tif', '2070500439_0440.tif', '94563604.tif', '71213729.tif', '6255.tif', '91041306.tif', '6565.tif', '502471866.tif', '2047277649.tif', '2045608399.tif', '87064368.tif', '2048499416.tif', '502218055.tif', '5399.tif', '512539600.tif', '506940441.tif', '5513.tif', 'tob14423.80.tif', '94695036.tif', '2044905373.tif', '2084426349_6350.tif', '8715.tif', '505312461_505312463.tif', '2061001531.tif', '508082471.tif', '85145574_85145575.tif', '7193.tif', '2058501041.tif', '503950394.tif', '5158.tif', '2794.tif', '2072281121_1122.tif', '502593008.tif', '2070718139_8140.tif', '4041.tif', '2045731674.tif', '1002325195.tif', '2056446479.tif', '0000168934.tif', 'tob14901.94.tif', '504638500.tif', '9653.tif', '2058502484.tif', '2024535799.tif', '2084414030_4031.tif', '91572389_91572392.tif', '03061423.tif', '4669.tif', '2065060466.tif', 'tob02906.10.tif', 'tob12116.10.tif', '2026001473.tif', '2070570873_0874.tif', '2796.tif', '3187.tif', 'tob14818.27.tif', '502594252.tif', '502473493.tif', '502597745.tif', '2058500376.tif', '71213294.tif', '1280.tif', '2047938927.tif', '500161281.tif', '2214.tif', '04412344.tif', '2058504241.tif', '0000725637.tif', '9953.tif', '71686346.tif', '2080905993_5994.tif', '93444833.tif', '502304195.tif', 'ton01907.16.tif', '502596450.tif', '92242724.tif', '502594293.tif', '2049408403.tif', '509135399.tif', '71388873.tif', '2062102995.tif', '2073114799.tif', '501948454.tif', '502219156.tif', '85382720.tif', '2061001989.tif', '1632.tif', '2047938810.tif', '0113.tif', '03652167.tif', '99157110.tif', '2084116355.tif', '9351.tif', '2084421009_1009a.tif', '2058504840.tif', '2042332294.tif', '2071724824.tif', '99332910.tif', '5315.tif', '13572632.tif', '0358.tif', '1002762247.tif', '2058500284.tif', '2042408346.tif', '2058500501.tif', '0071086490.tif', '13025280.tif', '93423051.tif', '916803.tif', '502471796.tif', '2070500881_0882.tif', '2070712561_2562.tif', '2084426522.tif', '2077328191.tif', '92222771_2772.tif', '71894432.tif', '03196182.tif', '2497.tif', '0000220552.tif', '2058501641.tif', '92597705_7706.tif', '2041018074.tif', '2058501316.tif', '91373052_91373059.tif', '2061001454.tif', '2061003610.tif', '18003694_18003705.tif', '0838.tif', '2070121721.tif', '504040928.tif', '2048741107.tif', '2049256131.tif', '502591836.tif', 'tob10929.99.tif', '93114772.tif', '92242696_2697.tif', '2048683781.tif', '1002763463.tif', '1791.tif', '509139941_509139942.tif', '71390150.tif', '2074373203_3204.tif', '2219.tif', '506728390.tif', '92525363.tif', '2070501075_1076.tif', '886870.tif', '502472661.tif', '502596924.tif', '2070500218_0219.tif', '0793.tif', '501948435.tif', '2084513330_3331.tif', '8608.tif', '2084511843_1844.tif', '91662217_2220.tif', '502592413.tif', '2084426339_6340.tif', '503782218.tif', '2049323044.tif', '509131810_509131811.tif', '2084513530.tif', '0071087512.tif', '3000107224.tif', '4186.tif', '505729689.tif', '0030048491.tif', '1002762078.tif', '2084396529.tif', '0000882561.tif', '71895483.tif', '2045726404.tif', '87535851.tif', '9748.tif', '2084427840_7841.tif', '502597926.tif', '2071465466_5467.tif', '2043213033.tif', '503781402.tif', '2047938915.tif', '502598024.tif', '502597487.tif', '2061000093.tif', '2070494229_4230.tif', '7330.tif', '71895622.tif', '2084427329_7330.tif', '2044400348.tif']\n"
          ]
        }
      ]
    },
    {
      "cell_type": "code",
      "source": [
        "# prediction_groups = pipeline.recognize(images)"
      ],
      "metadata": {
        "id": "dQEn6Wf53NfS"
      },
      "execution_count": null,
      "outputs": []
    },
    {
      "cell_type": "code",
      "source": [
        "# predicted_image_1 = prediction_groups[0]\n",
        "# for text, box in predicted_image_1:\n",
        "#   print(text)  "
      ],
      "metadata": {
        "id": "fJBSlne73P-F"
      },
      "execution_count": null,
      "outputs": []
    },
    {
      "cell_type": "markdown",
      "source": [
        "Devido a problemas com leitura do PymuPDf e ram com o kerasOCR, infelizmente não fui capaz de finalizar a tarefa, desculpe"
      ],
      "metadata": {
        "id": "2oYV9hmnA5hZ"
      }
    }
  ]
}