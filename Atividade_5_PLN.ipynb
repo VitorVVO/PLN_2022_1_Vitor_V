{
  "nbformat": 4,
  "nbformat_minor": 0,
  "metadata": {
    "colab": {
      "name": "Atividade_5_PLN.ipynb",
      "provenance": [],
      "collapsed_sections": []
    },
    "kernelspec": {
      "name": "python3",
      "display_name": "Python 3"
    },
    "language_info": {
      "name": "python"
    }
  },
  "cells": [
    {
      "cell_type": "code",
      "execution_count": 1,
      "metadata": {
        "id": "8qesw4rNMsde"
      },
      "outputs": [],
      "source": [
        "#!pip install keras\n",
        "#!pip install tensorflow"
      ]
    },
    {
      "cell_type": "code",
      "source": [
        "import pandas as pd\n",
        "from keras.models import Sequential\n",
        "from keras.layers import Dense\n",
        "from sklearn.feature_extraction.text import TfidfVectorizer\n",
        "from tensorflow.keras.optimizers import SGD\n",
        "from keras.utils.np_utils import to_categorical\n",
        "import matplotlib.pyplot as plt"
      ],
      "metadata": {
        "id": "kLa3daEePeVT"
      },
      "execution_count": 2,
      "outputs": []
    },
    {
      "cell_type": "code",
      "source": [
        "path_train = 'https://raw.githubusercontent.com/viniciusrpb/cic0269_natural_language_processing/main/datasets/corpora/tweets_polarity_classification/twitter-2013train-A.txt'\n",
        "path_test = 'https://raw.githubusercontent.com/viniciusrpb/cic0269_natural_language_processing/main/datasets/corpora/tweets_polarity_classification/twitter-2013test-A.txt'\n",
        "path_valid = 'https://raw.githubusercontent.com/viniciusrpb/cic0269_natural_language_processing/main/datasets/corpora/tweets_polarity_classification/twitter-2013dev-A.txt'"
      ],
      "metadata": {
        "id": "kJ8N5yE_Nwm6"
      },
      "execution_count": 3,
      "outputs": []
    },
    {
      "cell_type": "code",
      "source": [
        "df_train = pd.read_csv(path_train,names=['id','polarity','text'],sep='\\t')\n",
        "df_valid = pd.read_csv(path_valid,names=['id','polarity','text'],sep='\\t')\n",
        "df_test = pd.read_csv(path_test,names=['id','polarity','text'],sep='\\t')"
      ],
      "metadata": {
        "id": "MWO6bS02PaeH"
      },
      "execution_count": 4,
      "outputs": []
    },
    {
      "cell_type": "code",
      "source": [
        "df_test"
      ],
      "metadata": {
        "colab": {
          "base_uri": "https://localhost:8080/",
          "height": 424
        },
        "id": "KEfJe3N5Pzpo",
        "outputId": "4876c9be-49b6-4f6c-fd75-8513f3bce713"
      },
      "execution_count": 5,
      "outputs": [
        {
          "output_type": "execute_result",
          "data": {
            "text/plain": [
              "                      id  polarity  \\\n",
              "0     264238274963451904  positive   \n",
              "1     218775148495515649  positive   \n",
              "2     258965201766998017   neutral   \n",
              "3     262926411352903682  negative   \n",
              "4     171874368908050432   neutral   \n",
              "...                  ...       ...   \n",
              "3542  264233437060288512  negative   \n",
              "3543  263779058284904448   neutral   \n",
              "3544  250744453831213056  negative   \n",
              "3545  258679974591090688  positive   \n",
              "3546  243018372453916674   neutral   \n",
              "\n",
              "                                                   text  \n",
              "0     @jjuueellzz down in the Atlantic city, ventnor...  \n",
              "1     Musical awareness: Great Big Beautiful Tomorro...  \n",
              "2     On Radio786 100.4fm 7:10 Fri Oct 19 Labour ana...  \n",
              "3     Kapan sih lo ngebuktiin,jan ngomong doang Susa...  \n",
              "4     Excuse the connectivity of this live stream, f...  \n",
              "...                                                 ...  \n",
              "3542  Khaleda Zia's present India visit may have a b...  \n",
              "3543  FYI, golf fans: @jameslepp will join Moj on We...  \n",
              "3544  @__Aniko you think mr.Calle let practice with ...  \n",
              "3545  Don't hide under your desk! It's just a salsa ...  \n",
              "3546  Saturday flashmob on the music of The Runaways...  \n",
              "\n",
              "[3547 rows x 3 columns]"
            ],
            "text/html": [
              "\n",
              "  <div id=\"df-136a8ed1-490e-47da-841a-06a8290b1ea7\">\n",
              "    <div class=\"colab-df-container\">\n",
              "      <div>\n",
              "<style scoped>\n",
              "    .dataframe tbody tr th:only-of-type {\n",
              "        vertical-align: middle;\n",
              "    }\n",
              "\n",
              "    .dataframe tbody tr th {\n",
              "        vertical-align: top;\n",
              "    }\n",
              "\n",
              "    .dataframe thead th {\n",
              "        text-align: right;\n",
              "    }\n",
              "</style>\n",
              "<table border=\"1\" class=\"dataframe\">\n",
              "  <thead>\n",
              "    <tr style=\"text-align: right;\">\n",
              "      <th></th>\n",
              "      <th>id</th>\n",
              "      <th>polarity</th>\n",
              "      <th>text</th>\n",
              "    </tr>\n",
              "  </thead>\n",
              "  <tbody>\n",
              "    <tr>\n",
              "      <th>0</th>\n",
              "      <td>264238274963451904</td>\n",
              "      <td>positive</td>\n",
              "      <td>@jjuueellzz down in the Atlantic city, ventnor...</td>\n",
              "    </tr>\n",
              "    <tr>\n",
              "      <th>1</th>\n",
              "      <td>218775148495515649</td>\n",
              "      <td>positive</td>\n",
              "      <td>Musical awareness: Great Big Beautiful Tomorro...</td>\n",
              "    </tr>\n",
              "    <tr>\n",
              "      <th>2</th>\n",
              "      <td>258965201766998017</td>\n",
              "      <td>neutral</td>\n",
              "      <td>On Radio786 100.4fm 7:10 Fri Oct 19 Labour ana...</td>\n",
              "    </tr>\n",
              "    <tr>\n",
              "      <th>3</th>\n",
              "      <td>262926411352903682</td>\n",
              "      <td>negative</td>\n",
              "      <td>Kapan sih lo ngebuktiin,jan ngomong doang Susa...</td>\n",
              "    </tr>\n",
              "    <tr>\n",
              "      <th>4</th>\n",
              "      <td>171874368908050432</td>\n",
              "      <td>neutral</td>\n",
              "      <td>Excuse the connectivity of this live stream, f...</td>\n",
              "    </tr>\n",
              "    <tr>\n",
              "      <th>...</th>\n",
              "      <td>...</td>\n",
              "      <td>...</td>\n",
              "      <td>...</td>\n",
              "    </tr>\n",
              "    <tr>\n",
              "      <th>3542</th>\n",
              "      <td>264233437060288512</td>\n",
              "      <td>negative</td>\n",
              "      <td>Khaleda Zia's present India visit may have a b...</td>\n",
              "    </tr>\n",
              "    <tr>\n",
              "      <th>3543</th>\n",
              "      <td>263779058284904448</td>\n",
              "      <td>neutral</td>\n",
              "      <td>FYI, golf fans: @jameslepp will join Moj on We...</td>\n",
              "    </tr>\n",
              "    <tr>\n",
              "      <th>3544</th>\n",
              "      <td>250744453831213056</td>\n",
              "      <td>negative</td>\n",
              "      <td>@__Aniko you think mr.Calle let practice with ...</td>\n",
              "    </tr>\n",
              "    <tr>\n",
              "      <th>3545</th>\n",
              "      <td>258679974591090688</td>\n",
              "      <td>positive</td>\n",
              "      <td>Don't hide under your desk! It's just a salsa ...</td>\n",
              "    </tr>\n",
              "    <tr>\n",
              "      <th>3546</th>\n",
              "      <td>243018372453916674</td>\n",
              "      <td>neutral</td>\n",
              "      <td>Saturday flashmob on the music of The Runaways...</td>\n",
              "    </tr>\n",
              "  </tbody>\n",
              "</table>\n",
              "<p>3547 rows × 3 columns</p>\n",
              "</div>\n",
              "      <button class=\"colab-df-convert\" onclick=\"convertToInteractive('df-136a8ed1-490e-47da-841a-06a8290b1ea7')\"\n",
              "              title=\"Convert this dataframe to an interactive table.\"\n",
              "              style=\"display:none;\">\n",
              "        \n",
              "  <svg xmlns=\"http://www.w3.org/2000/svg\" height=\"24px\"viewBox=\"0 0 24 24\"\n",
              "       width=\"24px\">\n",
              "    <path d=\"M0 0h24v24H0V0z\" fill=\"none\"/>\n",
              "    <path d=\"M18.56 5.44l.94 2.06.94-2.06 2.06-.94-2.06-.94-.94-2.06-.94 2.06-2.06.94zm-11 1L8.5 8.5l.94-2.06 2.06-.94-2.06-.94L8.5 2.5l-.94 2.06-2.06.94zm10 10l.94 2.06.94-2.06 2.06-.94-2.06-.94-.94-2.06-.94 2.06-2.06.94z\"/><path d=\"M17.41 7.96l-1.37-1.37c-.4-.4-.92-.59-1.43-.59-.52 0-1.04.2-1.43.59L10.3 9.45l-7.72 7.72c-.78.78-.78 2.05 0 2.83L4 21.41c.39.39.9.59 1.41.59.51 0 1.02-.2 1.41-.59l7.78-7.78 2.81-2.81c.8-.78.8-2.07 0-2.86zM5.41 20L4 18.59l7.72-7.72 1.47 1.35L5.41 20z\"/>\n",
              "  </svg>\n",
              "      </button>\n",
              "      \n",
              "  <style>\n",
              "    .colab-df-container {\n",
              "      display:flex;\n",
              "      flex-wrap:wrap;\n",
              "      gap: 12px;\n",
              "    }\n",
              "\n",
              "    .colab-df-convert {\n",
              "      background-color: #E8F0FE;\n",
              "      border: none;\n",
              "      border-radius: 50%;\n",
              "      cursor: pointer;\n",
              "      display: none;\n",
              "      fill: #1967D2;\n",
              "      height: 32px;\n",
              "      padding: 0 0 0 0;\n",
              "      width: 32px;\n",
              "    }\n",
              "\n",
              "    .colab-df-convert:hover {\n",
              "      background-color: #E2EBFA;\n",
              "      box-shadow: 0px 1px 2px rgba(60, 64, 67, 0.3), 0px 1px 3px 1px rgba(60, 64, 67, 0.15);\n",
              "      fill: #174EA6;\n",
              "    }\n",
              "\n",
              "    [theme=dark] .colab-df-convert {\n",
              "      background-color: #3B4455;\n",
              "      fill: #D2E3FC;\n",
              "    }\n",
              "\n",
              "    [theme=dark] .colab-df-convert:hover {\n",
              "      background-color: #434B5C;\n",
              "      box-shadow: 0px 1px 3px 1px rgba(0, 0, 0, 0.15);\n",
              "      filter: drop-shadow(0px 1px 2px rgba(0, 0, 0, 0.3));\n",
              "      fill: #FFFFFF;\n",
              "    }\n",
              "  </style>\n",
              "\n",
              "      <script>\n",
              "        const buttonEl =\n",
              "          document.querySelector('#df-136a8ed1-490e-47da-841a-06a8290b1ea7 button.colab-df-convert');\n",
              "        buttonEl.style.display =\n",
              "          google.colab.kernel.accessAllowed ? 'block' : 'none';\n",
              "\n",
              "        async function convertToInteractive(key) {\n",
              "          const element = document.querySelector('#df-136a8ed1-490e-47da-841a-06a8290b1ea7');\n",
              "          const dataTable =\n",
              "            await google.colab.kernel.invokeFunction('convertToInteractive',\n",
              "                                                     [key], {});\n",
              "          if (!dataTable) return;\n",
              "\n",
              "          const docLinkHtml = 'Like what you see? Visit the ' +\n",
              "            '<a target=\"_blank\" href=https://colab.research.google.com/notebooks/data_table.ipynb>data table notebook</a>'\n",
              "            + ' to learn more about interactive tables.';\n",
              "          element.innerHTML = '';\n",
              "          dataTable['output_type'] = 'display_data';\n",
              "          await google.colab.output.renderOutput(dataTable, element);\n",
              "          const docLink = document.createElement('div');\n",
              "          docLink.innerHTML = docLinkHtml;\n",
              "          element.appendChild(docLink);\n",
              "        }\n",
              "      </script>\n",
              "    </div>\n",
              "  </div>\n",
              "  "
            ]
          },
          "metadata": {},
          "execution_count": 5
        }
      ]
    },
    {
      "cell_type": "code",
      "source": [
        "print(f'Train size {df_train.shape}')\n",
        "print(f'Valid size {df_valid.shape}')\n",
        "print(f'Test size {df_test.shape}')"
      ],
      "metadata": {
        "colab": {
          "base_uri": "https://localhost:8080/"
        },
        "id": "DSwe3wvLP_xb",
        "outputId": "5b5f7eb4-8470-418e-d8fc-419742897faa"
      },
      "execution_count": 6,
      "outputs": [
        {
          "output_type": "stream",
          "name": "stdout",
          "text": [
            "Train size (9684, 3)\n",
            "Valid size (1654, 3)\n",
            "Test size (3547, 3)\n"
          ]
        }
      ]
    },
    {
      "cell_type": "code",
      "source": [
        "df_train = df_train.drop(labels=['id'],axis=1)\n",
        "df_valid = df_valid.drop(labels=['id'],axis=1)\n",
        "df_test = df_test.drop(labels=['id'],axis=1)"
      ],
      "metadata": {
        "id": "JEEwUpt-Qa-o"
      },
      "execution_count": 7,
      "outputs": []
    },
    {
      "cell_type": "code",
      "source": [
        "vectorizer = TfidfVectorizer(norm=None,lowercase=True,stop_words=\"english\",max_df=0.95,min_df=2)\n",
        "\n",
        "vectorizer.fit(df_train['text'])\n",
        "\n",
        "tfidf_train = vectorizer.transform(df_train['text']).toarray()\n",
        "tfidf_valid = vectorizer.transform(df_valid['text']).toarray()\n",
        "tfidf_test = vectorizer.transform(df_test['text']).toarray()"
      ],
      "metadata": {
        "id": "dbtaZnFlRA8l"
      },
      "execution_count": 8,
      "outputs": []
    },
    {
      "cell_type": "code",
      "source": [
        "df_train['polarity'] = pd.Categorical(df_train['polarity'])\n",
        "y_train_int = df_train['polarity'].cat.codes\n",
        "\n",
        "df_valid['polarity'] = pd.Categorical(df_valid['polarity'])\n",
        "y_valid_int = df_valid['polarity'].cat.codes\n",
        "\n",
        "df_test['polarity'] = pd.Categorical(df_test['polarity'])\n",
        "y_test_int = df_test['polarity'].cat.codes"
      ],
      "metadata": {
        "id": "BrT8ydnGb4Eq"
      },
      "execution_count": 9,
      "outputs": []
    },
    {
      "cell_type": "code",
      "source": [
        "y_train = to_categorical(y_train_int)\n",
        "y_valid = to_categorical(y_valid_int)\n",
        "y_test = to_categorical(y_test_int)"
      ],
      "metadata": {
        "id": "V4Wd20UQdP9z"
      },
      "execution_count": 10,
      "outputs": []
    },
    {
      "cell_type": "code",
      "source": [
        ""
      ],
      "metadata": {
        "id": "9jjAj7fSdyP1"
      },
      "execution_count": 10,
      "outputs": []
    },
    {
      "cell_type": "code",
      "source": [
        "X_train = tfidf_train\n",
        "X_valid = tfidf_valid\n",
        "X_test = tfidf_test"
      ],
      "metadata": {
        "id": "7jC6GyCRbplq"
      },
      "execution_count": 11,
      "outputs": []
    },
    {
      "cell_type": "code",
      "source": [
        "N = tfidf_train.shape[0]\n",
        "vocab_size = tfidf_train.shape[1]\n",
        "print(f'Quantidade de instancias de treinamento {N} e tamanho do vocabulario {vocab_size}')"
      ],
      "metadata": {
        "colab": {
          "base_uri": "https://localhost:8080/"
        },
        "id": "vKP6m6AsXsql",
        "outputId": "a7492e73-92f8-45c3-cd5f-6882d9c20942"
      },
      "execution_count": 12,
      "outputs": [
        {
          "output_type": "stream",
          "name": "stdout",
          "text": [
            "Quantidade de instancias de treinamento 9684 e tamanho do vocabulario 7654\n"
          ]
        }
      ]
    },
    {
      "cell_type": "markdown",
      "source": [
        "Arquitetura da Rede Multilayer Perceptron Profunda"
      ],
      "metadata": {
        "id": "8ZBTwtGUR7oW"
      }
    },
    {
      "cell_type": "markdown",
      "source": [
        "Hyperparâmetros da rede"
      ],
      "metadata": {
        "id": "opRBBhsCTuiL"
      }
    },
    {
      "cell_type": "code",
      "source": [
        "number_of_neurons_layer1 = 20\n",
        "number_of_neurons_layer2 = 10\n",
        "number_of_neurons_output = 3\n",
        "lr = 0.01"
      ],
      "metadata": {
        "id": "knTDnztUTtyW"
      },
      "execution_count": 13,
      "outputs": []
    },
    {
      "cell_type": "code",
      "source": [
        "model = Sequential()\n",
        "# Input Layer\n",
        "model.add(Dense(number_of_neurons_layer1,input_dim=vocab_size,activation='sigmoid'))\n",
        "model.add(Dense(number_of_neurons_layer2,activation='sigmoid'))\n",
        "model.add(Dense(number_of_neurons_output,activation='softmax'))\n",
        "model.summary()"
      ],
      "metadata": {
        "colab": {
          "base_uri": "https://localhost:8080/"
        },
        "id": "lFnqMSwQR-C9",
        "outputId": "1c559b06-d923-4cdc-a80e-f86e4e980f8c"
      },
      "execution_count": 14,
      "outputs": [
        {
          "output_type": "stream",
          "name": "stdout",
          "text": [
            "Model: \"sequential\"\n",
            "_________________________________________________________________\n",
            " Layer (type)                Output Shape              Param #   \n",
            "=================================================================\n",
            " dense (Dense)               (None, 20)                153100    \n",
            "                                                                 \n",
            " dense_1 (Dense)             (None, 10)                210       \n",
            "                                                                 \n",
            " dense_2 (Dense)             (None, 3)                 33        \n",
            "                                                                 \n",
            "=================================================================\n",
            "Total params: 153,343\n",
            "Trainable params: 153,343\n",
            "Non-trainable params: 0\n",
            "_________________________________________________________________\n"
          ]
        }
      ]
    },
    {
      "cell_type": "code",
      "source": [
        "sgd = SGD(learning_rate=lr)\n",
        "model.compile(optimizer=sgd,loss='categorical_crossentropy',metrics=['accuracy'])"
      ],
      "metadata": {
        "id": "NVCoUJfAZ21I"
      },
      "execution_count": 15,
      "outputs": []
    },
    {
      "cell_type": "code",
      "source": [
        "history = model.fit(X_train,y_train,validation_data=(X_valid,y_valid),epochs=50)"
      ],
      "metadata": {
        "colab": {
          "base_uri": "https://localhost:8080/"
        },
        "id": "6f4dinSJbXft",
        "outputId": "282328be-3e0e-4233-94df-505648b9f97b"
      },
      "execution_count": 16,
      "outputs": [
        {
          "output_type": "stream",
          "name": "stdout",
          "text": [
            "Epoch 1/50\n",
            "303/303 [==============================] - 2s 6ms/step - loss: 1.0338 - accuracy: 0.4379 - val_loss: 1.0576 - val_accuracy: 0.4468\n",
            "Epoch 2/50\n",
            "303/303 [==============================] - 2s 7ms/step - loss: 1.0039 - accuracy: 0.4736 - val_loss: 1.0593 - val_accuracy: 0.4468\n",
            "Epoch 3/50\n",
            "303/303 [==============================] - 2s 7ms/step - loss: 1.0013 - accuracy: 0.4736 - val_loss: 1.0583 - val_accuracy: 0.4468\n",
            "Epoch 4/50\n",
            "303/303 [==============================] - 2s 5ms/step - loss: 0.9987 - accuracy: 0.4737 - val_loss: 1.0546 - val_accuracy: 0.4468\n",
            "Epoch 5/50\n",
            "303/303 [==============================] - 2s 6ms/step - loss: 0.9959 - accuracy: 0.4740 - val_loss: 1.0540 - val_accuracy: 0.4468\n",
            "Epoch 6/50\n",
            "303/303 [==============================] - 2s 5ms/step - loss: 0.9928 - accuracy: 0.4752 - val_loss: 1.0520 - val_accuracy: 0.4577\n",
            "Epoch 7/50\n",
            "303/303 [==============================] - 2s 6ms/step - loss: 0.9893 - accuracy: 0.4802 - val_loss: 1.0502 - val_accuracy: 0.4704\n",
            "Epoch 8/50\n",
            "303/303 [==============================] - 2s 5ms/step - loss: 0.9854 - accuracy: 0.4914 - val_loss: 1.0456 - val_accuracy: 0.4637\n",
            "Epoch 9/50\n",
            "303/303 [==============================] - 2s 6ms/step - loss: 0.9807 - accuracy: 0.5000 - val_loss: 1.0440 - val_accuracy: 0.4728\n",
            "Epoch 10/50\n",
            "303/303 [==============================] - 2s 7ms/step - loss: 0.9752 - accuracy: 0.5198 - val_loss: 1.0392 - val_accuracy: 0.4825\n",
            "Epoch 11/50\n",
            "303/303 [==============================] - 2s 6ms/step - loss: 0.9689 - accuracy: 0.5338 - val_loss: 1.0352 - val_accuracy: 0.5115\n",
            "Epoch 12/50\n",
            "303/303 [==============================] - 2s 5ms/step - loss: 0.9613 - accuracy: 0.5625 - val_loss: 1.0281 - val_accuracy: 0.5224\n",
            "Epoch 13/50\n",
            "303/303 [==============================] - 2s 6ms/step - loss: 0.9525 - accuracy: 0.5848 - val_loss: 1.0222 - val_accuracy: 0.5260\n",
            "Epoch 14/50\n",
            "303/303 [==============================] - 2s 6ms/step - loss: 0.9423 - accuracy: 0.6017 - val_loss: 1.0140 - val_accuracy: 0.5508\n",
            "Epoch 15/50\n",
            "303/303 [==============================] - 2s 6ms/step - loss: 0.9306 - accuracy: 0.6195 - val_loss: 1.0066 - val_accuracy: 0.5671\n",
            "Epoch 16/50\n",
            "303/303 [==============================] - 2s 6ms/step - loss: 0.9173 - accuracy: 0.6361 - val_loss: 0.9975 - val_accuracy: 0.5677\n",
            "Epoch 17/50\n",
            "303/303 [==============================] - 2s 6ms/step - loss: 0.9025 - accuracy: 0.6469 - val_loss: 0.9873 - val_accuracy: 0.5744\n",
            "Epoch 18/50\n",
            "303/303 [==============================] - 2s 5ms/step - loss: 0.8866 - accuracy: 0.6542 - val_loss: 0.9772 - val_accuracy: 0.5792\n",
            "Epoch 19/50\n",
            "303/303 [==============================] - 2s 6ms/step - loss: 0.8696 - accuracy: 0.6636 - val_loss: 0.9673 - val_accuracy: 0.5822\n",
            "Epoch 20/50\n",
            "303/303 [==============================] - 2s 6ms/step - loss: 0.8519 - accuracy: 0.6716 - val_loss: 0.9581 - val_accuracy: 0.5852\n",
            "Epoch 21/50\n",
            "303/303 [==============================] - 2s 6ms/step - loss: 0.8337 - accuracy: 0.6789 - val_loss: 0.9470 - val_accuracy: 0.5846\n",
            "Epoch 22/50\n",
            "303/303 [==============================] - 2s 5ms/step - loss: 0.8155 - accuracy: 0.6849 - val_loss: 0.9350 - val_accuracy: 0.5865\n",
            "Epoch 23/50\n",
            "303/303 [==============================] - 1s 4ms/step - loss: 0.7972 - accuracy: 0.6919 - val_loss: 0.9274 - val_accuracy: 0.5883\n",
            "Epoch 24/50\n",
            "303/303 [==============================] - 1s 3ms/step - loss: 0.7794 - accuracy: 0.6984 - val_loss: 0.9171 - val_accuracy: 0.5949\n",
            "Epoch 25/50\n",
            "303/303 [==============================] - 1s 4ms/step - loss: 0.7616 - accuracy: 0.7045 - val_loss: 0.9093 - val_accuracy: 0.5943\n",
            "Epoch 26/50\n",
            "303/303 [==============================] - 1s 4ms/step - loss: 0.7442 - accuracy: 0.7109 - val_loss: 0.9015 - val_accuracy: 0.5931\n",
            "Epoch 27/50\n",
            "303/303 [==============================] - 1s 3ms/step - loss: 0.7270 - accuracy: 0.7154 - val_loss: 0.8934 - val_accuracy: 0.5955\n",
            "Epoch 28/50\n",
            "303/303 [==============================] - 1s 4ms/step - loss: 0.7102 - accuracy: 0.7214 - val_loss: 0.8889 - val_accuracy: 0.5973\n",
            "Epoch 29/50\n",
            "303/303 [==============================] - 1s 3ms/step - loss: 0.6934 - accuracy: 0.7267 - val_loss: 0.8863 - val_accuracy: 0.6016\n",
            "Epoch 30/50\n",
            "303/303 [==============================] - 1s 4ms/step - loss: 0.6771 - accuracy: 0.7324 - val_loss: 0.8798 - val_accuracy: 0.6040\n",
            "Epoch 31/50\n",
            "303/303 [==============================] - 1s 4ms/step - loss: 0.6607 - accuracy: 0.7374 - val_loss: 0.8748 - val_accuracy: 0.6076\n",
            "Epoch 32/50\n",
            "303/303 [==============================] - 1s 4ms/step - loss: 0.6445 - accuracy: 0.7447 - val_loss: 0.8723 - val_accuracy: 0.6082\n",
            "Epoch 33/50\n",
            "303/303 [==============================] - 1s 4ms/step - loss: 0.6286 - accuracy: 0.7496 - val_loss: 0.8692 - val_accuracy: 0.6149\n",
            "Epoch 34/50\n",
            "303/303 [==============================] - 1s 3ms/step - loss: 0.6123 - accuracy: 0.7556 - val_loss: 0.8662 - val_accuracy: 0.6173\n",
            "Epoch 35/50\n",
            "303/303 [==============================] - 1s 3ms/step - loss: 0.5966 - accuracy: 0.7636 - val_loss: 0.8651 - val_accuracy: 0.6167\n",
            "Epoch 36/50\n",
            "303/303 [==============================] - 1s 4ms/step - loss: 0.5809 - accuracy: 0.7704 - val_loss: 0.8640 - val_accuracy: 0.6203\n",
            "Epoch 37/50\n",
            "303/303 [==============================] - 1s 4ms/step - loss: 0.5651 - accuracy: 0.7798 - val_loss: 0.8637 - val_accuracy: 0.6233\n",
            "Epoch 38/50\n",
            "303/303 [==============================] - 1s 3ms/step - loss: 0.5499 - accuracy: 0.7878 - val_loss: 0.8663 - val_accuracy: 0.6239\n",
            "Epoch 39/50\n",
            "303/303 [==============================] - 1s 3ms/step - loss: 0.5344 - accuracy: 0.7940 - val_loss: 0.8657 - val_accuracy: 0.6258\n",
            "Epoch 40/50\n",
            "303/303 [==============================] - 1s 3ms/step - loss: 0.5194 - accuracy: 0.8010 - val_loss: 0.8656 - val_accuracy: 0.6258\n",
            "Epoch 41/50\n",
            "303/303 [==============================] - 1s 4ms/step - loss: 0.5043 - accuracy: 0.8087 - val_loss: 0.8713 - val_accuracy: 0.6233\n",
            "Epoch 42/50\n",
            "303/303 [==============================] - 1s 4ms/step - loss: 0.4896 - accuracy: 0.8158 - val_loss: 0.8683 - val_accuracy: 0.6288\n",
            "Epoch 43/50\n",
            "303/303 [==============================] - 1s 3ms/step - loss: 0.4752 - accuracy: 0.8239 - val_loss: 0.8749 - val_accuracy: 0.6294\n",
            "Epoch 44/50\n",
            "303/303 [==============================] - 1s 3ms/step - loss: 0.4610 - accuracy: 0.8296 - val_loss: 0.8760 - val_accuracy: 0.6264\n",
            "Epoch 45/50\n",
            "303/303 [==============================] - 1s 4ms/step - loss: 0.4471 - accuracy: 0.8395 - val_loss: 0.8821 - val_accuracy: 0.6233\n",
            "Epoch 46/50\n",
            "303/303 [==============================] - 1s 4ms/step - loss: 0.4332 - accuracy: 0.8464 - val_loss: 0.8914 - val_accuracy: 0.6209\n",
            "Epoch 47/50\n",
            "303/303 [==============================] - 1s 3ms/step - loss: 0.4200 - accuracy: 0.8514 - val_loss: 0.8937 - val_accuracy: 0.6227\n",
            "Epoch 48/50\n",
            "303/303 [==============================] - 1s 3ms/step - loss: 0.4068 - accuracy: 0.8613 - val_loss: 0.9007 - val_accuracy: 0.6239\n",
            "Epoch 49/50\n",
            "303/303 [==============================] - 1s 3ms/step - loss: 0.3938 - accuracy: 0.8653 - val_loss: 0.9043 - val_accuracy: 0.6264\n",
            "Epoch 50/50\n",
            "303/303 [==============================] - 1s 4ms/step - loss: 0.3814 - accuracy: 0.8732 - val_loss: 0.9103 - val_accuracy: 0.6252\n"
          ]
        }
      ]
    },
    {
      "cell_type": "code",
      "source": [
        "plt.plot(history.history['loss'])\n",
        "plt.plot(history.history['val_loss'])\n",
        "plt.title('Model loss')\n",
        "plt.ylabel('Loss')\n",
        "plt.xlabel('Epoch')\n",
        "plt.legend(['Train', 'Validation'], loc='upper left')\n",
        "plt.show()"
      ],
      "metadata": {
        "colab": {
          "base_uri": "https://localhost:8080/",
          "height": 295
        },
        "id": "OJHj7NfRfJrS",
        "outputId": "d1905e4d-d021-4e9b-ff25-8a90cf579bf7"
      },
      "execution_count": 17,
      "outputs": [
        {
          "output_type": "display_data",
          "data": {
            "text/plain": [
              "<Figure size 432x288 with 1 Axes>"
            ],
            "image/png": "[encoded data removed]"
          },
          "metadata": {
            "needs_background": "light"
          }
        }
      ]
    },
    {
      "cell_type": "code",
      "source": [
        "plt.plot(history.history['accuracy'])\n",
        "plt.plot(history.history['val_accuracy'])\n",
        "plt.title('Model acc')\n",
        "plt.ylabel('Accuracy')\n",
        "plt.xlabel('Epoch')\n",
        "plt.legend(['Train', 'Validation'], loc='upper left')\n",
        "plt.show()"
      ],
      "metadata": {
        "colab": {
          "base_uri": "https://localhost:8080/",
          "height": 295
        },
        "id": "cUKzQDzCgdVX",
        "outputId": "31003afb-4a30-4d73-c744-6d437718b647"
      },
      "execution_count": 18,
      "outputs": [
        {
          "output_type": "display_data",
          "data": {
            "text/plain": [
              "<Figure size 432x288 with 1 Axes>"
            ],
            "image/png": "[encoded data removed]"
          },
          "metadata": {
            "needs_background": "light"
          }
        }
      ]
    },
    {
      "cell_type": "markdown",
      "source": [
        "Avaliação com os Dados de Teste"
      ],
      "metadata": {
        "id": "QP7yxTEPg1Nv"
      }
    },
    {
      "cell_type": "code",
      "source": [
        "y = model.evaluate(X_test,y_test)"
      ],
      "metadata": {
        "colab": {
          "base_uri": "https://localhost:8080/"
        },
        "id": "yM-hXxVtg4J2",
        "outputId": "47b389b6-cd2d-4738-c8b4-cc17176c6d2a"
      },
      "execution_count": 19,
      "outputs": [
        {
          "output_type": "stream",
          "name": "stdout",
          "text": [
            "111/111 [==============================] - 0s 2ms/step - loss: 0.8977 - accuracy: 0.6360\n"
          ]
        }
      ]
    },
    {
      "cell_type": "code",
      "source": [
        "import numpy as np\n",
        "y_prob = model.predict(X_test)\n",
        "y_prob"
      ],
      "metadata": {
        "colab": {
          "base_uri": "https://localhost:8080/"
        },
        "id": "u42IOHfzlCnM",
        "outputId": "1ec902e3-a97f-4caf-c0fb-4c4b084272bc"
      },
      "execution_count": 20,
      "outputs": [
        {
          "output_type": "execute_result",
          "data": {
            "text/plain": [
              "array([[0.06621065, 0.10602306, 0.82776624],\n",
              "       [0.01593455, 0.00639873, 0.9776667 ],\n",
              "       [0.0593553 , 0.8794902 , 0.06115455],\n",
              "       ...,\n",
              "       [0.23852603, 0.5295865 , 0.23188747],\n",
              "       [0.12566207, 0.07183804, 0.80249995],\n",
              "       [0.15676989, 0.6053037 , 0.23792641]], dtype=float32)"
            ]
          },
          "metadata": {},
          "execution_count": 20
        }
      ]
    },
    {
      "cell_type": "code",
      "source": [
        "y_pred = np.argmax(y_prob,axis=1)\n",
        "y_pred"
      ],
      "metadata": {
        "colab": {
          "base_uri": "https://localhost:8080/"
        },
        "id": "zJDx8GlRlyPz",
        "outputId": "c67c65bf-5856-446a-abbd-d29e724ef25a"
      },
      "execution_count": 21,
      "outputs": [
        {
          "output_type": "execute_result",
          "data": {
            "text/plain": [
              "array([2, 2, 1, ..., 1, 2, 1])"
            ]
          },
          "metadata": {},
          "execution_count": 21
        }
      ]
    },
    {
      "cell_type": "code",
      "source": [
        "y_test_int"
      ],
      "metadata": {
        "colab": {
          "base_uri": "https://localhost:8080/"
        },
        "id": "yTsaRqgVllE3",
        "outputId": "6bcabeb6-3908-43c8-fbf0-beca81d3690a"
      },
      "execution_count": 22,
      "outputs": [
        {
          "output_type": "execute_result",
          "data": {
            "text/plain": [
              "0       2\n",
              "1       2\n",
              "2       1\n",
              "3       0\n",
              "4       1\n",
              "       ..\n",
              "3542    0\n",
              "3543    1\n",
              "3544    0\n",
              "3545    2\n",
              "3546    1\n",
              "Length: 3547, dtype: int8"
            ]
          },
          "metadata": {},
          "execution_count": 22
        }
      ]
    },
    {
      "cell_type": "markdown",
      "source": [
        "#Atividade 5\n",
        "# Vitor Vasconcelos de Oliveira  --  180114778"
      ],
      "metadata": {
        "id": "P4lEv7P3PZha"
      }
    },
    {
      "cell_type": "markdown",
      "source": [
        "# Calculando Matriz de Confusão:"
      ],
      "metadata": {
        "id": "oQjCC_gPPrpg"
      }
    },
    {
      "cell_type": "code",
      "source": [
        "matriz_conf = [[0,0,0],[0,0,0],[0,0,0]]\n",
        "\n",
        "for i in range(len(y_pred)):\n",
        "  matriz_conf[y_test_int[i]][y_pred[i]]+=1"
      ],
      "metadata": {
        "id": "ZrfBj4suN-ul"
      },
      "execution_count": 54,
      "outputs": []
    },
    {
      "cell_type": "code",
      "source": [
        "#printando Matriz\n",
        "for i in range(len(matriz_conf)):\n",
        "  print(matriz_conf[i])"
      ],
      "metadata": {
        "colab": {
          "base_uri": "https://localhost:8080/"
        },
        "id": "3dTOlRcpOim6",
        "outputId": "13df2f2d-4d8e-4b52-f129-3525f018fa4c"
      },
      "execution_count": 55,
      "outputs": [
        {
          "output_type": "stream",
          "name": "stdout",
          "text": [
            "[93, 357, 109]\n",
            "[14, 1242, 257]\n",
            "[24, 530, 921]\n"
          ]
        }
      ]
    },
    {
      "cell_type": "markdown",
      "source": [
        "# Report do sklearn para compartivo:"
      ],
      "metadata": {
        "id": "KRXhKa-HP7h4"
      }
    },
    {
      "cell_type": "code",
      "source": [
        "from sklearn.metrics import classification_report\n",
        "\n",
        "print(classification_report(y_test_int, y_pred))"
      ],
      "metadata": {
        "colab": {
          "base_uri": "https://localhost:8080/"
        },
        "id": "QE-dK-oUUBx7",
        "outputId": "d45cd6a5-a251-4b54-a0c4-b173d5a295a9"
      },
      "execution_count": 56,
      "outputs": [
        {
          "output_type": "stream",
          "name": "stdout",
          "text": [
            "              precision    recall  f1-score   support\n",
            "\n",
            "           0       0.71      0.17      0.27       559\n",
            "           1       0.58      0.82      0.68      1513\n",
            "           2       0.72      0.62      0.67      1475\n",
            "\n",
            "    accuracy                           0.64      3547\n",
            "   macro avg       0.67      0.54      0.54      3547\n",
            "weighted avg       0.66      0.64      0.61      3547\n",
            "\n"
          ]
        }
      ]
    },
    {
      "cell_type": "markdown",
      "source": [
        "# Calculando Acurácia:"
      ],
      "metadata": {
        "id": "E97mX2zHP6gp"
      }
    },
    {
      "cell_type": "code",
      "source": [
        "acr = (matriz_conf[0][0]+matriz_conf[1][1]+matriz_conf[2][2])/len(y_pred)\n",
        "acr"
      ],
      "metadata": {
        "colab": {
          "base_uri": "https://localhost:8080/"
        },
        "id": "CfTDqQw_Qgi4",
        "outputId": "288b7494-0b42-4e51-af63-31c612d33cd9"
      },
      "execution_count": 57,
      "outputs": [
        {
          "output_type": "execute_result",
          "data": {
            "text/plain": [
              "0.6360304482661404"
            ]
          },
          "metadata": {},
          "execution_count": 57
        }
      ]
    },
    {
      "cell_type": "markdown",
      "source": [
        "# Calculando Precisão(pr), Recall(rv) e F1 Score(f1):"
      ],
      "metadata": {
        "id": "N-XmIJUKQZaF"
      }
    },
    {
      "cell_type": "code",
      "source": [
        "#     0   1   2\n",
        "#  0  *\n",
        "#  1      *\n",
        "#  2          *\n",
        "\n",
        "pr_0 = matriz_conf[0][0]/(matriz_conf[0][0]+matriz_conf[1][0]+matriz_conf[2][0])\n",
        "rv_0 = matriz_conf[0][0]/(matriz_conf[0][0]+matriz_conf[0][1]+matriz_conf[0][2])\n",
        "f1_0 = 2*((pr_0*rv_0)/(pr_0+rv_0))\n",
        "\n",
        "pr_1 = matriz_conf[1][1]/(matriz_conf[1][1]+matriz_conf[0][1]+matriz_conf[2][1])\n",
        "rv_1 = matriz_conf[1][1]/(matriz_conf[1][1]+matriz_conf[1][0]+matriz_conf[1][2])\n",
        "f1_1 = 2*((pr_1*rv_1)/(pr_1+rv_1))\n",
        "\n",
        "pr_2 = matriz_conf[2][2]/(matriz_conf[2][2]+matriz_conf[1][2]+matriz_conf[0][2])\n",
        "rv_2 = matriz_conf[2][2]/(matriz_conf[2][2]+matriz_conf[2][0]+matriz_conf[2][1])\n",
        "f1_2 = 2*((pr_2*rv_2)/(pr_2+rv_2))"
      ],
      "metadata": {
        "id": "CljtymoiS0rS"
      },
      "execution_count": 58,
      "outputs": []
    },
    {
      "cell_type": "code",
      "source": [
        "#Comparando com o classification Report:\n",
        "# precision  |  recall   |  f1-score\n",
        "# 0.71       |  0.17     |  0.27\n",
        "\n",
        "print('precision          | recall              | f1-score')\n",
        "print(pr_0,'|',rv_0,'|',f1_0)"
      ],
      "metadata": {
        "colab": {
          "base_uri": "https://localhost:8080/"
        },
        "id": "dh4abJ76UWao",
        "outputId": "1d372985-4aee-43ed-ad20-0824becf260f"
      },
      "execution_count": 59,
      "outputs": [
        {
          "output_type": "stream",
          "name": "stdout",
          "text": [
            "precision          | recall              | f1-score\n",
            "0.7099236641221374 | 0.16636851520572452 | 0.26956521739130435\n"
          ]
        }
      ]
    },
    {
      "cell_type": "code",
      "source": [
        "#Comparando com o classification Report:\n",
        "# precision  |  recall   |  f1-score\n",
        "# 0.58       |  0.82     |  0.68\n",
        "\n",
        "print('precision          | recall           | f1-score')\n",
        "print(pr_1,'|',rv_1,'|',f1_1)"
      ],
      "metadata": {
        "colab": {
          "base_uri": "https://localhost:8080/"
        },
        "id": "rD9t1G50We9U",
        "outputId": "e5a20144-0cf5-4ce0-9640-cb9adb0454ea"
      },
      "execution_count": 60,
      "outputs": [
        {
          "output_type": "stream",
          "name": "stdout",
          "text": [
            "precision          | recall           | f1-score\n",
            "0.5833724753405355 | 0.82088565763384 | 0.6820428336079077\n"
          ]
        }
      ]
    },
    {
      "cell_type": "code",
      "source": [
        "#Comparando com o classification Report:\n",
        "# precision  |  recall   |  f1-score\n",
        "# 0.72       |  0.62     |  0.67\n",
        "\n",
        "print('precision          | recall            | f1-score')\n",
        "print(pr_2,'|',rv_2,'|',f1_2)"
      ],
      "metadata": {
        "colab": {
          "base_uri": "https://localhost:8080/"
        },
        "id": "A_qb-WXqXTm7",
        "outputId": "296e75c5-f7b1-4295-bb1a-71b0027c0164"
      },
      "execution_count": 61,
      "outputs": [
        {
          "output_type": "stream",
          "name": "stdout",
          "text": [
            "precision          | recall            | f1-score\n",
            "0.7156177156177156 | 0.624406779661017 | 0.6669080376538741\n"
          ]
        }
      ]
    }
  ]
}